{
 "cells": [
  {
   "cell_type": "markdown",
   "metadata": {},
   "source": [
    "# From Quickstart\n",
    "Imports:"
   ]
  },
  {
   "cell_type": "code",
   "execution_count": 1,
   "metadata": {},
   "outputs": [],
   "source": [
    "from __future__ import print_function\n",
    "\n",
    "import os.path\n",
    "\n",
    "from google.auth.transport.requests import Request\n",
    "from google.oauth2.credentials import Credentials\n",
    "from google_auth_oauthlib.flow import InstalledAppFlow\n",
    "from googleapiclient.discovery import build\n",
    "from googleapiclient.errors import HttpError\n",
    "\n",
    "# If modifying these scopes, delete the file token.json.\n",
    "SCOPES = ['https://www.googleapis.com/auth/gmail.readonly']"
   ]
  },
  {
   "cell_type": "markdown",
   "metadata": {},
   "source": [
    "Example that prints all labels of the gmail account:"
   ]
  },
  {
   "cell_type": "code",
   "execution_count": 2,
   "metadata": {},
   "outputs": [
    {
     "name": "stdout",
     "output_type": "stream",
     "text": [
      "Labels:\n",
      "CHAT\n",
      "SENT\n",
      "INBOX\n",
      "IMPORTANT\n",
      "TRASH\n",
      "DRAFT\n",
      "SPAM\n",
      "CATEGORY_FORUMS\n",
      "CATEGORY_UPDATES\n",
      "CATEGORY_PERSONAL\n",
      "CATEGORY_PROMOTIONS\n",
      "CATEGORY_SOCIAL\n",
      "STARRED\n",
      "UNREAD\n",
      "Bewaren!\n",
      "Tuniña/Tuniña Bestuur\n",
      "constantino/c12\n",
      "Tuniña/Tunafestival\n",
      "constantino/c8\n",
      "Declareren\n",
      "fotocie@tunina.nl\n",
      "Sparkle\n",
      "Sureveg\n",
      "Wageningen\n",
      "constantino/c10\n",
      "a.m.krus@upm.es\n",
      "constantino/c1\n",
      "a.krus@alumnos.upm.es\n",
      "Google\n",
      "constantino/c10/c10b\n",
      "Personal\n",
      "constantino/c10/c10a\n",
      "Receipts\n",
      "constantino/c4\n",
      "constantino/c7\n",
      "constantino/c2\n",
      "constantino/c1/c1b\n",
      "constantino/c3\n",
      "Work\n",
      "constantino/c13\n",
      "constantino/fromAtoC\n",
      "constantino/c11\n",
      "constantino\n",
      "Tuniña\n",
      "constantino/fromCtoA\n",
      "Notes\n",
      "constantino/c9\n",
      "constantino/c1/c1a\n",
      "constantino/c5\n",
      "constantino/c6\n",
      "Tuniña/webcie@tunina.nl\n"
     ]
    }
   ],
   "source": [
    "def main():\n",
    "    \"\"\"Shows basic usage of the Gmail API.\n",
    "    Lists the user's Gmail labels.\n",
    "    \"\"\"\n",
    "    creds = None\n",
    "    # The file token.json stores the user's access and refresh tokens, and is\n",
    "    # created automatically when the authorization flow completes for the first\n",
    "    # time.\n",
    "    if os.path.exists('token.json'):\n",
    "        creds = Credentials.from_authorized_user_file('token.json', SCOPES)\n",
    "    # If there are no (valid) credentials available, let the user log in.\n",
    "    if not creds or not creds.valid:\n",
    "        if creds and creds.expired and creds.refresh_token:\n",
    "            creds.refresh(Request())\n",
    "        else:\n",
    "            flow = InstalledAppFlow.from_client_secrets_file(\n",
    "                'credentials.json', SCOPES)\n",
    "            creds = flow.run_local_server(port=0)\n",
    "        # Save the credentials for the next run\n",
    "        with open('token.json', 'w') as token:\n",
    "            token.write(creds.to_json())\n",
    "\n",
    "    try:\n",
    "        # Call the Gmail API\n",
    "        service = build('gmail', 'v1', credentials=creds)\n",
    "        results = service.users().labels().list(userId='me').execute()\n",
    "        labels = results.get('labels', [])\n",
    "\n",
    "        if not labels:\n",
    "            print('No labels found.')\n",
    "            return\n",
    "        print('Labels:')\n",
    "        for label in labels:\n",
    "            print(label['name'])\n",
    "\n",
    "    except HttpError as error:\n",
    "        # TODO(developer) - Handle errors from gmail API.\n",
    "        print(f'An error occurred: {error}')\n",
    "\n",
    "\n",
    "if __name__ == '__main__':\n",
    "    main()"
   ]
  },
  {
   "cell_type": "markdown",
   "metadata": {},
   "source": [
    "# Exploring API\n",
    "Return the results from the quickstart to see what's inside:"
   ]
  },
  {
   "cell_type": "code",
   "execution_count": 3,
   "metadata": {},
   "outputs": [
    {
     "name": "stdout",
     "output_type": "stream",
     "text": [
      "Labels:\n",
      "CHAT\n",
      "SENT\n",
      "INBOX\n",
      "IMPORTANT\n",
      "TRASH\n",
      "DRAFT\n",
      "SPAM\n",
      "CATEGORY_FORUMS\n",
      "CATEGORY_UPDATES\n",
      "CATEGORY_PERSONAL\n",
      "CATEGORY_PROMOTIONS\n",
      "CATEGORY_SOCIAL\n",
      "STARRED\n",
      "UNREAD\n",
      "Bewaren!\n",
      "Tuniña/Tuniña Bestuur\n",
      "constantino/c12\n",
      "Tuniña/Tunafestival\n",
      "constantino/c8\n",
      "Declareren\n",
      "fotocie@tunina.nl\n",
      "Sparkle\n",
      "Sureveg\n",
      "Wageningen\n",
      "constantino/c10\n",
      "a.m.krus@upm.es\n",
      "constantino/c1\n",
      "a.krus@alumnos.upm.es\n",
      "Google\n",
      "constantino/c10/c10b\n",
      "Personal\n",
      "constantino/c10/c10a\n",
      "Receipts\n",
      "constantino/c4\n",
      "constantino/c7\n",
      "constantino/c2\n",
      "constantino/c1/c1b\n",
      "constantino/c3\n",
      "Work\n",
      "constantino/c13\n",
      "constantino/fromAtoC\n",
      "constantino/c11\n",
      "constantino\n",
      "Tuniña\n",
      "constantino/fromCtoA\n",
      "Notes\n",
      "constantino/c9\n",
      "constantino/c1/c1a\n",
      "constantino/c5\n",
      "constantino/c6\n",
      "Tuniña/webcie@tunina.nl\n"
     ]
    }
   ],
   "source": [
    "if os.path.exists('token.json'):\n",
    "    creds = Credentials.from_authorized_user_file('token.json', SCOPES)\n",
    "# If there are no (valid) credentials available, let the user log in.\n",
    "if not creds or not creds.valid:\n",
    "    if creds and creds.expired and creds.refresh_token:\n",
    "        creds.refresh(Request())\n",
    "    else:\n",
    "        flow = InstalledAppFlow.from_client_secrets_file(\n",
    "            'credentials.json', SCOPES)\n",
    "        creds = flow.run_local_server(port=0)\n",
    "    # Save the credentials for the next run\n",
    "    with open('token.json', 'w') as token:\n",
    "        token.write(creds.to_json())\n",
    "\n",
    "try:\n",
    "    # Call the Gmail API\n",
    "    service = build('gmail', 'v1', credentials=creds)\n",
    "    results = service.users().labels().list(userId='me').execute()\n",
    "    labels = results.get('labels', [])\n",
    "\n",
    "    if not labels:\n",
    "        print('No labels found.')\n",
    "    print('Labels:')\n",
    "    for label in labels:\n",
    "        print(label['name'])\n",
    "\n",
    "except HttpError as error:\n",
    "    # TODO(developer) - Handle errors from gmail API.\n",
    "    print(f'An error occurred: {error}')"
   ]
  },
  {
   "cell_type": "code",
   "execution_count": 4,
   "metadata": {},
   "outputs": [],
   "source": [
    "query = 'from:(constantino.valero@upm.es) to:(annekrus@gmail.com)'"
   ]
  },
  {
   "cell_type": "markdown",
   "metadata": {},
   "source": [
    "Service and query have been defined, call messages().list() with the query to obtain message ids"
   ]
  },
  {
   "cell_type": "code",
   "execution_count": 5,
   "metadata": {},
   "outputs": [],
   "source": [
    "messages = service.users().messages().list(userId='me',q=query).execute()"
   ]
  },
  {
   "cell_type": "code",
   "execution_count": 6,
   "metadata": {},
   "outputs": [
    {
     "data": {
      "text/plain": [
       "{'messages': [{'id': '1807590dab548da4', 'threadId': '1807590dab548da4'},\n",
       "  {'id': '18008d4977cddb90', 'threadId': '17ffec36eb1bd0eb'},\n",
       "  {'id': '17f884766c552f82', 'threadId': '17f884766c552f82'},\n",
       "  {'id': '17f7901da7b25984', 'threadId': '17f66c5ece4b93a8'},\n",
       "  {'id': '17ee935f0dab04f2', 'threadId': '17e7d6ae0d870ea3'},\n",
       "  {'id': '17ee48e9002ed2b3', 'threadId': '17ee48e9002ed2b3'},\n",
       "  {'id': '17ec09ac01bb647b', 'threadId': '17ebffac840567d5'},\n",
       "  {'id': '17e675a1a61a662c', 'threadId': '17e65e4ef45e73f5'},\n",
       "  {'id': '17e585a11daafe16', 'threadId': '17e57da708b14e37'},\n",
       "  {'id': '17e5024d0e9e81bd', 'threadId': '17e5024d0e9e81bd'},\n",
       "  {'id': '17e48377c691d5a8', 'threadId': '17e473ec0f76502b'},\n",
       "  {'id': '17e10dbd61c39f40', 'threadId': '17de24d95ad2c454'},\n",
       "  {'id': '17de6983840a54a5', 'threadId': '17de24d95ad2c454'},\n",
       "  {'id': '17de23587fc0b2a4', 'threadId': '17dc079b350e3087'},\n",
       "  {'id': '17be3dc5f1d09cfb', 'threadId': '17be38f93a05d622'},\n",
       "  {'id': '17be3cdae0401e43', 'threadId': '17be38f93a05d622'},\n",
       "  {'id': '17bc945cdc15b742', 'threadId': '17bbfc66ff83e35c'},\n",
       "  {'id': '17bc52ab6ae6c205', 'threadId': '17bbfc66ff83e35c'},\n",
       "  {'id': '1798ac96da352f5f', 'threadId': '17989e0a44374654'},\n",
       "  {'id': '178e9c570c9613cf', 'threadId': '178e9c570c9613cf'},\n",
       "  {'id': '178b5622bab59e48', 'threadId': '178b0ab771b29bf2'},\n",
       "  {'id': '178ab70c5346feac', 'threadId': '1786687762fa1eb9'},\n",
       "  {'id': '1782d179d085e9f9', 'threadId': '178166159b3188f2'},\n",
       "  {'id': '1781d66dd669b140', 'threadId': '178166159b3188f2'},\n",
       "  {'id': '178166159b3188f2', 'threadId': '178166159b3188f2'},\n",
       "  {'id': '17796705119993b8', 'threadId': '17796705119993b8'},\n",
       "  {'id': '176e1e8e3c992e3b', 'threadId': '176d4cee11280df3'},\n",
       "  {'id': '175505065f146e98', 'threadId': '1754b984545a3eac'},\n",
       "  {'id': '174afde3921ccb80', 'threadId': '174924801579d5dd'},\n",
       "  {'id': '1749690d760e6676', 'threadId': '1749603bf13cbc07'},\n",
       "  {'id': '1743528a4b71faba', 'threadId': '173dd46bcafa0cce'},\n",
       "  {'id': '1738f74334aecc9d', 'threadId': '173758ff3368490a'},\n",
       "  {'id': '17371140dcab9077', 'threadId': '173708b66413cadc'},\n",
       "  {'id': '17347e1b4cc25b36', 'threadId': '17338907a8e7b450'},\n",
       "  {'id': '172cbe8858055bd8', 'threadId': '172c86164fca0622'},\n",
       "  {'id': '172bcd590cfe838d', 'threadId': '172bcd590cfe838d'},\n",
       "  {'id': '172b8716b65c1fcc', 'threadId': '172b7a35597f6a37'},\n",
       "  {'id': '171ff7beb81da429', 'threadId': '171ff7beb81da429'},\n",
       "  {'id': '171e9374f3d50f25', 'threadId': '171e9374f3d50f25'},\n",
       "  {'id': '171e49f7e9106f94', 'threadId': '171e3f6adeda21ec'},\n",
       "  {'id': '170d3950ca4d8c0b', 'threadId': '170d3607c35bc597'},\n",
       "  {'id': '1705cae2e5bac1c2', 'threadId': '1705843cf423db90'},\n",
       "  {'id': '170344dc3af337ab', 'threadId': '170344dc3af337ab'},\n",
       "  {'id': '1701c611fec30aad', 'threadId': '1701ae8ad4a361f3'},\n",
       "  {'id': '1700b44bd1a0007f', 'threadId': '16ffb293a56295b9'},\n",
       "  {'id': '1700b403c0e2dcc3', 'threadId': '1700b403c0e2dcc3'},\n",
       "  {'id': '16f9eecac0c24313', 'threadId': '16f9eecac0c24313'},\n",
       "  {'id': '16f4707306cffca6', 'threadId': '16f328f500ecc920'},\n",
       "  {'id': '16f228551228b000', 'threadId': '16ecb6ddc612bb9a'},\n",
       "  {'id': '16ecbb7b59b314db', 'threadId': '16ecb6ddc612bb9a'},\n",
       "  {'id': '16eac24bd3bb9ce0', 'threadId': '16e4b3ef899fbc3d'},\n",
       "  {'id': '16ea2892824e57eb', 'threadId': '16ea2892824e57eb'},\n",
       "  {'id': '16e99cd163a17498', 'threadId': '16e941095004913e'},\n",
       "  {'id': '16e92191ca24f0a6', 'threadId': '16e4b3ef899fbc3d'},\n",
       "  {'id': '16e642245fcdafc3', 'threadId': '16e4b3ef899fbc3d'},\n",
       "  {'id': '16e564035dba7c9c', 'threadId': '16e4ac01daeb58dd'},\n",
       "  {'id': '16e4a5e7dfc1f3f0', 'threadId': '16e46a72764f8fac'},\n",
       "  {'id': '16e4057cb7039995', 'threadId': '16e2724d0ef27d57'},\n",
       "  {'id': '16df272d1a165153', 'threadId': '16df25630c324ebe'},\n",
       "  {'id': '16ddefe59af4ed0b', 'threadId': '16dd9f7dae0e246f'},\n",
       "  {'id': '16d963940c2d14a1', 'threadId': '16d936fc0d89d765'},\n",
       "  {'id': '16d490e21370a6c2', 'threadId': '16d48c96cce857ac'},\n",
       "  {'id': '16d48d6520f730c8', 'threadId': '16d44e1a2454aa86'},\n",
       "  {'id': '16d48a2cffeaea71', 'threadId': '16d44e1a2454aa86'},\n",
       "  {'id': '16d45315df5656c1', 'threadId': '16d44e1a2454aa86'},\n",
       "  {'id': '16d40132ec3b44a1', 'threadId': '16d3e4c56fc2a56d'},\n",
       "  {'id': '16d4012c546f9e02', 'threadId': '16d3e4c56fc2a56d'},\n",
       "  {'id': '16d3f2ad0566a50a', 'threadId': '16d3f05aceaea9ac'},\n",
       "  {'id': '16d1af83c7e1edd9', 'threadId': '16d153e4868bb9bb'},\n",
       "  {'id': '16bd201b3e7bd69a', 'threadId': '16bd1578fae95ded'},\n",
       "  {'id': '16bb1e8e4bf89745', 'threadId': '16b9f446f0f82570'},\n",
       "  {'id': '16b8f120426e6890', 'threadId': '16b78b3b5d3d9ab5'},\n",
       "  {'id': '16b7af4a6c4bd69f', 'threadId': '16b7a72a206086da'},\n",
       "  {'id': '16b27736f64bca0e', 'threadId': '168b4313feec64bc'},\n",
       "  {'id': '16b08cf553eb6795', 'threadId': '16afdade4f29f425'},\n",
       "  {'id': '16af97724dc9be12', 'threadId': '16ae3ef8e566cde0'},\n",
       "  {'id': '16ae6e9c7d41fb3a', 'threadId': '16adedae28960e6f'},\n",
       "  {'id': '16ae508cd345b6fc', 'threadId': '16ae3ef8e566cde0'},\n",
       "  {'id': '16ae44ea4929b4bb', 'threadId': '16ae3ef8e566cde0'},\n",
       "  {'id': '16ab5a7f741fe1bf', 'threadId': '16a9867d10ba826c'},\n",
       "  {'id': '16ab0efb3be86659', 'threadId': '16a9867d10ba826c'},\n",
       "  {'id': '16a9c35d88e84c36', 'threadId': '16a9867d10ba826c'},\n",
       "  {'id': '16a1095ea55730e7', 'threadId': '16a0caebd54f3243'},\n",
       "  {'id': '16a0caebd54f3243', 'threadId': '16a0caebd54f3243'},\n",
       "  {'id': '16a07b3b47c13505', 'threadId': '16a076229769003a'},\n",
       "  {'id': '16a01b3a187f12fd', 'threadId': '169813217fd3c73e'},\n",
       "  {'id': '169c978ed63de4c6', 'threadId': '169a5b18b630ab8d'},\n",
       "  {'id': '169ba37fbe6e7f63', 'threadId': '169ba37fbe6e7f63'},\n",
       "  {'id': '169a4a893eb1bfc7', 'threadId': '1699fc7971223f05'},\n",
       "  {'id': '169a030d444e6f00', 'threadId': '1699fc7971223f05'},\n",
       "  {'id': '1699fc7971223f05', 'threadId': '1699fc7971223f05'},\n",
       "  {'id': '1694e09e77aa2a90', 'threadId': '1694e09e77aa2a90'},\n",
       "  {'id': '1694e082ca5f120d', 'threadId': '1694e082ca5f120d'},\n",
       "  {'id': '169484dd0f958b35', 'threadId': '16915638f6fe9b7f'},\n",
       "  {'id': '1692e6ddd87002b1', 'threadId': '1692e6ddd87002b1'},\n",
       "  {'id': '16923d4c72a3d826', 'threadId': '16919a93df7c8c87'},\n",
       "  {'id': '16915638f6fe9b7f', 'threadId': '16915638f6fe9b7f'},\n",
       "  {'id': '16905bc3de10fff4', 'threadId': '16905bc3de10fff4'},\n",
       "  {'id': '169059b64050cd44', 'threadId': '169059b64050cd44'},\n",
       "  {'id': '168e6d844804d36c', 'threadId': '168e6d844804d36c'}],\n",
       " 'nextPageToken': '15805741058595259588',\n",
       " 'resultSizeEstimate': 201}"
      ]
     },
     "execution_count": 6,
     "metadata": {},
     "output_type": "execute_result"
    }
   ],
   "source": [
    "messages"
   ]
  },
  {
   "cell_type": "markdown",
   "metadata": {},
   "source": [
    "## example functions\n",
    "From [https://www.thepythoncode.com/article/use-gmail-api-in-python#Searching_for_Emails](https://www.thepythoncode.com/article/use-gmail-api-in-python#Searching_for_Emails):"
   ]
  },
  {
   "cell_type": "code",
   "execution_count": 7,
   "metadata": {},
   "outputs": [],
   "source": [
    "def search_messages(service, query):\n",
    "    result = service.users().messages().list(userId='me',q=query).execute()\n",
    "    messages = [ ]\n",
    "    if 'messages' in result:\n",
    "        messages.extend(result['messages'])\n",
    "    while 'nextPageToken' in result:\n",
    "        page_token = result['nextPageToken']\n",
    "        result = service.users().messages().list(userId='me',q=query, pageToken=page_token).execute()\n",
    "        if 'messages' in result:\n",
    "            messages.extend(result['messages'])\n",
    "    return messages"
   ]
  },
  {
   "cell_type": "code",
   "execution_count": 8,
   "metadata": {},
   "outputs": [
    {
     "data": {
      "text/plain": [
       "328"
      ]
     },
     "execution_count": 8,
     "metadata": {},
     "output_type": "execute_result"
    }
   ],
   "source": [
    "mes = search_messages(service,query)\n",
    "\n",
    "len(mes)"
   ]
  },
  {
   "cell_type": "code",
   "execution_count": 9,
   "metadata": {},
   "outputs": [
    {
     "data": {
      "text/plain": [
       "'1807590dab548da4'"
      ]
     },
     "execution_count": 9,
     "metadata": {},
     "output_type": "execute_result"
    }
   ],
   "source": [
    "messages['messages'][0]['id']"
   ]
  },
  {
   "cell_type": "code",
   "execution_count": 10,
   "metadata": {},
   "outputs": [],
   "source": [
    "# utility functions\n",
    "\n",
    "from base64 import urlsafe_b64decode, urlsafe_b64encode\n",
    "\n",
    "def get_size_format(b, factor=1024, suffix=\"B\"):\n",
    "    \"\"\"\n",
    "    Scale bytes to its proper byte format\n",
    "    e.g:\n",
    "        1253656 => '1.20MB'\n",
    "        1253656678 => '1.17GB'\n",
    "    \"\"\"\n",
    "    for unit in [\"\", \"K\", \"M\", \"G\", \"T\", \"P\", \"E\", \"Z\"]:\n",
    "        if b < factor:\n",
    "            return f\"{b:.2f}{unit}{suffix}\"\n",
    "        b /= factor\n",
    "    return f\"{b:.2f}Y{suffix}\"\n",
    "\n",
    "\n",
    "def clean(text):\n",
    "    # clean text for creating a folder\n",
    "    return \"\".join(c if c.isalnum() else \"_\" for c in text)\n",
    "\n",
    "def parse_parts(service, parts, folder_name, message):\n",
    "    \"\"\"\n",
    "    Utility function that parses the content of an email partition\n",
    "    \"\"\"\n",
    "    if parts:\n",
    "        for part in parts:\n",
    "            filename = part.get(\"filename\")\n",
    "            mimeType = part.get(\"mimeType\")\n",
    "            body = part.get(\"body\")\n",
    "            data = body.get(\"data\")\n",
    "            file_size = body.get(\"size\")\n",
    "            part_headers = part.get(\"headers\")\n",
    "            if part.get(\"parts\"):\n",
    "                # recursively call this function when we see that a part\n",
    "                # has parts inside\n",
    "                parse_parts(service, part.get(\"parts\"), folder_name, message)\n",
    "            if mimeType == \"text/plain\":\n",
    "                # if the email part is text plain\n",
    "                if data:\n",
    "                    text = urlsafe_b64decode(data).decode()\n",
    "                    print(text)\n",
    "            elif mimeType == \"text/html\":\n",
    "                # if the email part is an HTML content\n",
    "                # save the HTML file and optionally open it in the browser\n",
    "                if not filename:\n",
    "                    filename = \"index.html\"\n",
    "                filepath = os.path.join(folder_name, filename)\n",
    "                print(\"Saving HTML to\", filepath)\n",
    "                with open(filepath, \"wb\") as f:\n",
    "                    f.write(urlsafe_b64decode(data))\n",
    "            else:\n",
    "                # attachment other than a plain text or HTML\n",
    "                for part_header in part_headers:\n",
    "                    part_header_name = part_header.get(\"name\")\n",
    "                    part_header_value = part_header.get(\"value\")\n",
    "                    if part_header_name == \"Content-Disposition\":\n",
    "                        if \"attachment\" in part_header_value:\n",
    "                            # we get the attachment ID \n",
    "                            # and make another request to get the attachment itself\n",
    "                            print(\"Saving the file:\", filename, \"size:\", get_size_format(file_size))\n",
    "                            attachment_id = body.get(\"attachmentId\")\n",
    "                            attachment = service.users().messages() \\\n",
    "                                        .attachments().get(id=attachment_id, userId='me', messageId=message['id']).execute()\n",
    "                            data = attachment.get(\"data\")\n",
    "                            filepath = os.path.join(folder_name, filename)\n",
    "                            if data:\n",
    "                                with open(filepath, \"wb\") as f:\n",
    "                                    f.write(urlsafe_b64decode(data))"
   ]
  },
  {
   "cell_type": "code",
   "execution_count": 11,
   "metadata": {},
   "outputs": [],
   "source": [
    "def read_message(service, message):\n",
    "    \"\"\"\n",
    "    This function takes Gmail API `service` and the given `message_id` and does the following:\n",
    "        - Downloads the content of the email\n",
    "        - Prints email basic information (To, From, Subject & Date) and plain/text parts\n",
    "        - Creates a folder for each email based on the subject\n",
    "        - Downloads text/html content (if available) and saves it under the folder created as index.html\n",
    "        - Downloads any file that is attached to the email and saves it in the folder created\n",
    "    \"\"\"\n",
    "    msg = service.users().messages().get(userId='me', id=message['id'], format='full').execute()\n",
    "    # parts can be the message body, or attachments\n",
    "    payload = msg['payload']\n",
    "    headers = payload.get(\"headers\")\n",
    "    parts = payload.get(\"parts\")\n",
    "    folder_name = \"email\"\n",
    "    has_subject = False\n",
    "    if headers:\n",
    "        # this section prints email basic info & creates a folder for the email\n",
    "        for header in headers:\n",
    "            name = header.get(\"name\")\n",
    "            value = header.get(\"value\")\n",
    "            if name.lower() == 'from':\n",
    "                # we print the From address\n",
    "                print(\"From:\", value)\n",
    "            if name.lower() == \"to\":\n",
    "                # we print the To address\n",
    "                print(\"To:\", value)\n",
    "            if name.lower() == \"subject\":\n",
    "                # make our boolean True, the email has \"subject\"\n",
    "                has_subject = True\n",
    "                # make a directory with the name of the subject\n",
    "                folder_name = clean(value)\n",
    "                # we will also handle emails with the same subject name\n",
    "                folder_counter = 0\n",
    "                while os.path.isdir(folder_name):\n",
    "                    folder_counter += 1\n",
    "                    # we have the same folder name, add a number next to it\n",
    "                    if folder_name[-1].isdigit() and folder_name[-2] == \"_\":\n",
    "                        folder_name = f\"{folder_name[:-2]}_{folder_counter}\"\n",
    "                    elif folder_name[-2:].isdigit() and folder_name[-3] == \"_\":\n",
    "                        folder_name = f\"{folder_name[:-3]}_{folder_counter}\"\n",
    "                    else:\n",
    "                        folder_name = f\"{folder_name}_{folder_counter}\"\n",
    "                os.mkdir(folder_name)\n",
    "                print(\"Subject:\", value)\n",
    "            if name.lower() == \"date\":\n",
    "                # we print the date when the message was sent\n",
    "                print(\"Date:\", value)\n",
    "    if not has_subject:\n",
    "        # if the email does not have a subject, then make a folder with \"email\" name\n",
    "        # since folders are created based on subjects\n",
    "        if not os.path.isdir(folder_name):\n",
    "            os.mkdir(folder_name)\n",
    "    parse_parts(service, parts, folder_name, message)\n",
    "    print(\"=\"*50)"
   ]
  },
  {
   "cell_type": "code",
   "execution_count": 12,
   "metadata": {},
   "outputs": [
    {
     "name": "stdout",
     "output_type": "stream",
     "text": [
      "From: Constantino Valero <constantino.valero@upm.es>\n",
      "To: Anne <annekrus@gmail.com>\n",
      "Subject: RV: tesis\n",
      "Date: Fri, 29 Apr 2022 15:44:28 +0200\n",
      "Para que lo tengamos en cuenta…\n",
      "\n",
      "Un saludo\n",
      "\n",
      "Constan\n",
      "\n",
      " \n",
      "\n",
      "De: Francisco Ayuga <francisco.ayuga@upm.es> \n",
      "Enviado el: viernes, 29 de abril de 2022 12:33\n",
      "Para: 'David Pereira Jerez' <d.pereira@upm.es>; 'Justo García Navarro' <justo.gnavarro@upm.es>; constantino.valero@upm.es\n",
      "Asunto: tesis\n",
      "\n",
      " \n",
      "\n",
      "Queridos amigos:\n",
      "\n",
      " \n",
      "\n",
      "Os adjunto las próximas fechas límite de depósito de tesis que me acaban de comunicar. Tenedlas en cuenta para vuestros doctorandos. \n",
      "\n",
      " \n",
      "\n",
      "-          Junio 2022: \n",
      "\n",
      "o   Fecha de la CD= 1 de junio de 2022 (09:30 horas).\n",
      "\n",
      "o   Fecha límite depósito de Tesis: hasta el 13 de mayo de 2022 (antes de las 14:00 horas).\n",
      "\n",
      "o   Resto de la documentación: hasta 24 de mayo de 2022 (antes de las 14:00 horas).\n",
      "\n",
      "-          Julio 2022:\n",
      "\n",
      "o   Fecha de la CD= 13 de julio de 2022 (09:30 horas).\n",
      "\n",
      "o   Fecha límite depósito de Tesis: hasta el 27 de junio de 2022 (antes de las 14:00 horas).\n",
      "\n",
      " \n",
      "\n",
      "Un abrazo,\n",
      "\n",
      " \n",
      "\n",
      "Paco Ayuga\n",
      "\n",
      " \n",
      "\n",
      " <https://www.upm.es/> \n",
      "\n",
      "Francisco Ayuga Tellez\n",
      "\n",
      "Coordinador del Máster Universitario en Ingeniería Agronómica y del doctorado en Agroingeniería\n",
      "\n",
      "Escuela Técnica Superior de Ingeniería Agronómica, Alimentaria y de Biosistemas\n",
      "\n",
      "ETSIAAB Ciudad Universitaria.\n",
      "\n",
      "28040, Madrid, Madrid SPAIN\n",
      "\n",
      "✉  <mailto:francisco.ayuga@upm.es> francisco.ayuga@upm.es\n",
      "\n",
      "✆  <tel:+34-910-67-09-21> +34 910 67 09 21\n",
      "\n",
      " <https://www.upm.es/disclaimer> Aviso / Disclaimer 🌳 🌳 Piensa antes de imprimir.\n",
      "\n",
      " \n",
      "\n",
      "\n",
      "Saving HTML to RV__tesis_1\\index.html\n",
      "==================================================\n"
     ]
    }
   ],
   "source": [
    "read_message(service,messages['messages'][0])"
   ]
  },
  {
   "cell_type": "code",
   "execution_count": 13,
   "metadata": {},
   "outputs": [
    {
     "data": {
      "text/plain": [
       "{'id': '1807590dab548da4', 'threadId': '1807590dab548da4'}"
      ]
     },
     "execution_count": 13,
     "metadata": {},
     "output_type": "execute_result"
    }
   ],
   "source": [
    "messages['messages'][0]"
   ]
  },
  {
   "cell_type": "markdown",
   "metadata": {},
   "source": [
    "## Apply examples to my code"
   ]
  },
  {
   "cell_type": "markdown",
   "metadata": {},
   "source": [
    "`messages` is a dictionary with three items. The first is 'messages' with a dictionary full of message ids and thread ids. The second is 'nextPageToken', unsure of function, the last one is 'resultSizeEstimate'."
   ]
  },
  {
   "cell_type": "code",
   "execution_count": 14,
   "metadata": {},
   "outputs": [
    {
     "data": {
      "text/plain": [
       "201"
      ]
     },
     "execution_count": 14,
     "metadata": {},
     "output_type": "execute_result"
    }
   ],
   "source": [
    "messages['resultSizeEstimate']"
   ]
  },
  {
   "cell_type": "code",
   "execution_count": 15,
   "metadata": {},
   "outputs": [
    {
     "data": {
      "text/plain": [
       "100"
      ]
     },
     "execution_count": 15,
     "metadata": {},
     "output_type": "execute_result"
    }
   ],
   "source": [
    "len(messages['messages'])"
   ]
  },
  {
   "cell_type": "code",
   "execution_count": 16,
   "metadata": {},
   "outputs": [
    {
     "data": {
      "text/plain": [
       "'15805741058595259588'"
      ]
     },
     "execution_count": 16,
     "metadata": {},
     "output_type": "execute_result"
    }
   ],
   "source": [
    "messages['nextPageToken']"
   ]
  },
  {
   "cell_type": "markdown",
   "metadata": {},
   "source": [
    "Only the first \"page\" was loaded, because the end of the \"next pages\" hadn't been reached. We need to go through each page and extract the messages"
   ]
  },
  {
   "cell_type": "code",
   "execution_count": 17,
   "metadata": {},
   "outputs": [],
   "source": [
    "def search_messages(service, query):\n",
    "    # source: https://www.thepythoncode.com/article/use-gmail-api-in-python#Searching_for_Emails\n",
    "    result = service.users().messages().list(userId='me',q=query).execute()\n",
    "    messages = [ ]\n",
    "    if 'messages' in result:\n",
    "        messages.extend(result['messages'])\n",
    "    while 'nextPageToken' in result:\n",
    "        page_token = result['nextPageToken']\n",
    "        result = service.users().messages().list(userId='me',q=query, pageToken=page_token).execute()\n",
    "        if 'messages' in result:\n",
    "            messages.extend(result['messages'])\n",
    "    return messages"
   ]
  },
  {
   "cell_type": "code",
   "execution_count": 18,
   "metadata": {},
   "outputs": [],
   "source": [
    "messages = search_messages(service, query)"
   ]
  },
  {
   "cell_type": "markdown",
   "metadata": {},
   "source": [
    "now `messages` is the direct list, corresponding to the previous `messages['messages']`"
   ]
  },
  {
   "cell_type": "code",
   "execution_count": 19,
   "metadata": {},
   "outputs": [
    {
     "data": {
      "text/plain": [
       "{'id': '1807590dab548da4',\n",
       " 'threadId': '1807590dab548da4',\n",
       " 'labelIds': ['Label_7803458552406999526',\n",
       "  'IMPORTANT',\n",
       "  'Label_1788769307117315432',\n",
       "  'STARRED',\n",
       "  'CATEGORY_PERSONAL',\n",
       "  'Label_6821402797130768025',\n",
       "  'Label_8668417558368631766',\n",
       "  'INBOX'],\n",
       " 'snippet': 'Para que lo tengamos en cuenta… Un saludo Constan De: Francisco Ayuga &lt;francisco.ayuga@upm.es&gt; Enviado el: viernes, 29 de abril de 2022 12:33 Para: &#39;David Pereira Jerez&#39; &lt;d.pereira@upm',\n",
       " 'payload': {'partId': '',\n",
       "  'mimeType': 'multipart/related',\n",
       "  'filename': '',\n",
       "  'headers': [{'name': 'Delivered-To', 'value': 'annekrus@gmail.com'},\n",
       "   {'name': 'Received',\n",
       "    'value': 'by 2002:a05:7022:6712:b0:3e:30d5:1302 with SMTP id bq18csp324392dlb;        Fri, 29 Apr 2022 06:44:29 -0700 (PDT)'},\n",
       "   {'name': 'X-Google-Smtp-Source',\n",
       "    'value': 'ABdhPJwt8pzSu3fVwRpc/pXcD9p2T2z0MN6QO19qjav5bFCmqBU2MxJs0nmsh8ZlAPFpKgaxriVz'},\n",
       "   {'name': 'X-Received',\n",
       "    'value': 'by 2002:a05:600c:1e15:b0:38f:f556:9349 with SMTP id ay21-20020a05600c1e1500b0038ff5569349mr3213434wmb.3.1651239869445;        Fri, 29 Apr 2022 06:44:29 -0700 (PDT)'},\n",
       "   {'name': 'ARC-Seal',\n",
       "    'value': 'i=1; a=rsa-sha256; t=1651239869; cv=none;        d=google.com; s=arc-20160816;        b=oV4NdvTvP5diRVWzE7JnWNvdd0jWuc822dOivNNS9i8EzHrDUidHZ64M1dJ749ZchP         phdIHTftHoaE0ILcSUkZ1QXWByUodOUVBwYOifznOfwkVnu5Y7aozb/sEZHcpgjCjX/k         myZo7lqo1MvaZp+xDnCKqL6gKO5LkjAU6Qvoc/AocAzXZjtxE0/lGeAlBracJkfxz+W2         Pq335RtheuYhULR56UTCBTEOvUpmQo/81sHK/VT7RggdDKPL24ruV9NSVRsgm8XlMix6         r1+1Bcg4gjtrUWre8eueaiWDnyylxwYMzumwywBOSLDoJux7hTL5btQicXiNZkVmNG1m         5oww=='},\n",
       "   {'name': 'ARC-Message-Signature',\n",
       "    'value': 'i=1; a=rsa-sha256; c=relaxed/relaxed; d=google.com; s=arc-20160816;        h=content-language:thread-index:mime-version:message-id:date:subject         :in-reply-to:references:to:from:dkim-signature;        bh=PHZBO1OGPGJt1WZAH3H+vkaLmwZ/Xzs4yizIx6la+1I=;        b=pdCk7cPYTDAT7tnb6NkQ1/EMIOWO/PmLx0E2DCENZrfATi9qCY+8VTtOgpDKS69qHd         3cz1MjbsGPioH97kCZGXKW3DPUa9a0cDpx4ujO/wET7wptHgtHvc+c+lz6ZNaYSAqe1G         9Y1wwnyBtrkGRWzzd8JKAQWDxkV5nLBqGR+ARkMqMDS9EQrElIjn0zYMsVK6/fhlWPg3         4uRzlbxG8FNRKjeUXFRR2csnnFY3GNpTitg2QNVYGKaTd+Um7IfrBZRcurlw1lNxhuH/         8PYW99hkU5tSev0ifC1zEK/osXDJlWYunXEqu+FKELbrwwlm3vq9ZQM7rrz9nN7PoTW5         1/Ew=='},\n",
       "   {'name': 'ARC-Authentication-Results',\n",
       "    'value': 'i=1; mx.google.com;       dkim=pass header.i=@upm.es header.s=upm header.b=JC6x9Wj0;       spf=pass (google.com: domain of constantino.valero@upm.es designates 138.100.198.71 as permitted sender) smtp.mailfrom=constantino.valero@upm.es'},\n",
       "   {'name': 'Return-Path', 'value': '<constantino.valero@upm.es>'},\n",
       "   {'name': 'Received',\n",
       "    'value': 'from neon-v1.ccupm.upm.es (neon-v1.ccupm.upm.es. [138.100.198.71])        by mx.google.com with ESMTPS id d16-20020a05600c34d000b0038eb72c27d1si5978008wmq.192.2022.04.29.06.44.29        for <annekrus@gmail.com>        (version=TLS1_2 cipher=ECDHE-ECDSA-CHACHA20-POLY1305 bits=256/256);        Fri, 29 Apr 2022 06:44:29 -0700 (PDT)'},\n",
       "   {'name': 'Received-SPF',\n",
       "    'value': 'pass (google.com: domain of constantino.valero@upm.es designates 138.100.198.71 as permitted sender) client-ip=138.100.198.71;'},\n",
       "   {'name': 'Authentication-Results',\n",
       "    'value': 'mx.google.com;       dkim=pass header.i=@upm.es header.s=upm header.b=JC6x9Wj0;       spf=pass (google.com: domain of constantino.valero@upm.es designates 138.100.198.71 as permitted sender) smtp.mailfrom=constantino.valero@upm.es'},\n",
       "   {'name': 'X-BitDefender-Scanner',\n",
       "    'value': 'Clean, Agent: BitDefender Milter 3.1.7 on neon-v1.ccupm.upm.es, sigver: 7.91773'},\n",
       "   {'name': 'Received',\n",
       "    'value': 'from asuscvu ([138.100.147.148])        (user=constantino.valero@upm.es mech=LOGIN bits=0)        by neon-v1.ccupm.upm.es (8.15.2/8.15.2/neon-v1-002) with ESMTPSA id 23TDiS3v014114        (version=TLSv1.2 cipher=ECDHE-RSA-AES256-GCM-SHA384 bits=256 verify=NOT)        for <annekrus@gmail.com>; Fri, 29 Apr 2022 13:44:28 GMT'},\n",
       "   {'name': 'DKIM-Signature',\n",
       "    'value': 'v=1; a=rsa-sha256; c=simple/simple; d=upm.es; s=upm; t=1651239868; bh=w5kJa518alNoaaWKxpiZCSoSpeRH+AkqprqyNBnYBDE=; h=From:To:References:In-Reply-To:Subject:Date:From; b=JC6x9Wj0ZQ+inmzpf3GT47R/wQ6vB02w7FZc5K83yiz+EaVxM9Ftd0McGmEDt+G8m\\t mnlfNn8w0zPL/ni4Cojm7ZyVQS1EAWdMVHRZW6kNNMI7QQtReekdCRElz6Tg+VkX7n\\t mLw//QB6bPTap6mVK055GH24lIrb9F440kuC3P6g='},\n",
       "   {'name': 'From', 'value': 'Constantino Valero <constantino.valero@upm.es>'},\n",
       "   {'name': 'To', 'value': 'Anne <annekrus@gmail.com>'},\n",
       "   {'name': 'References', 'value': '<007a01d85bb4$7e6e0510$7b4a0f30$@upm.es>'},\n",
       "   {'name': 'In-Reply-To',\n",
       "    'value': '<007a01d85bb4$7e6e0510$7b4a0f30$@upm.es>'},\n",
       "   {'name': 'Subject', 'value': 'RV: tesis'},\n",
       "   {'name': 'Date', 'value': 'Fri, 29 Apr 2022 15:44:28 +0200'},\n",
       "   {'name': 'Message-ID', 'value': '<00b601d85bcf$3f706cc0$be514640$@upm.es>'},\n",
       "   {'name': 'MIME-Version', 'value': '1.0'},\n",
       "   {'name': 'Content-Type',\n",
       "    'value': 'multipart/related; boundary=\"----=_NextPart_000_00B7_01D85BE0.02FBADC0\"'},\n",
       "   {'name': 'X-Mailer', 'value': 'Microsoft Outlook 16.0'},\n",
       "   {'name': 'thread-index', 'value': 'AQJDMx7BjzFgPnms7MW+X5UBGeWmxawxOCSg'},\n",
       "   {'name': 'Content-Language', 'value': 'es'}],\n",
       "  'body': {'size': 0},\n",
       "  'parts': [{'partId': '0',\n",
       "    'mimeType': 'multipart/alternative',\n",
       "    'filename': '',\n",
       "    'headers': [{'name': 'Content-Type',\n",
       "      'value': 'multipart/alternative; boundary=\"----=_NextPart_001_00B8_01D85BE0.02FBADC0\"'}],\n",
       "    'body': {'size': 0},\n",
       "    'parts': [{'partId': '0.0',\n",
       "      'mimeType': 'text/plain',\n",
       "      'filename': '',\n",
       "      'headers': [{'name': 'Content-Type',\n",
       "        'value': 'text/plain; charset=\"UTF-8\"'},\n",
       "       {'name': 'Content-Transfer-Encoding', 'value': 'quoted-printable'}],\n",
       "      'body': {'size': 1484,\n",
       "       'data': 'UGFyYSBxdWUgbG8gdGVuZ2Ftb3MgZW4gY3VlbnRh4oCmDQoNClVuIHNhbHVkbw0KDQpDb25zdGFuDQoNCiANCg0KRGU6IEZyYW5jaXNjbyBBeXVnYSA8ZnJhbmNpc2NvLmF5dWdhQHVwbS5lcz4gDQpFbnZpYWRvIGVsOiB2aWVybmVzLCAyOSBkZSBhYnJpbCBkZSAyMDIyIDEyOjMzDQpQYXJhOiAnRGF2aWQgUGVyZWlyYSBKZXJleicgPGQucGVyZWlyYUB1cG0uZXM-OyAnSnVzdG8gR2FyY8OtYSBOYXZhcnJvJyA8anVzdG8uZ25hdmFycm9AdXBtLmVzPjsgY29uc3RhbnRpbm8udmFsZXJvQHVwbS5lcw0KQXN1bnRvOiB0ZXNpcw0KDQogDQoNClF1ZXJpZG9zIGFtaWdvczoNCg0KIA0KDQpPcyBhZGp1bnRvIGxhcyBwcsOzeGltYXMgZmVjaGFzIGzDrW1pdGUgZGUgZGVww7NzaXRvIGRlIHRlc2lzIHF1ZSBtZSBhY2FiYW4gZGUgY29tdW5pY2FyLiBUZW5lZGxhcyBlbiBjdWVudGEgcGFyYSB2dWVzdHJvcyBkb2N0b3JhbmRvcy4gDQoNCiANCg0KLSAgICAgICAgICBKdW5pbyAyMDIyOiANCg0KbyAgIEZlY2hhIGRlIGxhIENEPSAxIGRlIGp1bmlvIGRlIDIwMjIgKDA5OjMwIGhvcmFzKS4NCg0KbyAgIEZlY2hhIGzDrW1pdGUgZGVww7NzaXRvIGRlIFRlc2lzOiBoYXN0YSBlbCAxMyBkZSBtYXlvIGRlIDIwMjIgKGFudGVzIGRlIGxhcyAxNDowMCBob3JhcykuDQoNCm8gICBSZXN0byBkZSBsYSBkb2N1bWVudGFjacOzbjogaGFzdGEgMjQgZGUgbWF5byBkZSAyMDIyIChhbnRlcyBkZSBsYXMgMTQ6MDAgaG9yYXMpLg0KDQotICAgICAgICAgIEp1bGlvIDIwMjI6DQoNCm8gICBGZWNoYSBkZSBsYSBDRD0gMTMgZGUganVsaW8gZGUgMjAyMiAoMDk6MzAgaG9yYXMpLg0KDQpvICAgRmVjaGEgbMOtbWl0ZSBkZXDDs3NpdG8gZGUgVGVzaXM6IGhhc3RhIGVsIDI3IGRlIGp1bmlvIGRlIDIwMjIgKGFudGVzIGRlIGxhcyAxNDowMCBob3JhcykuDQoNCiANCg0KVW4gYWJyYXpvLA0KDQogDQoNClBhY28gQXl1Z2ENCg0KIA0KDQogPGh0dHBzOi8vd3d3LnVwbS5lcy8-IA0KDQpGcmFuY2lzY28gQXl1Z2EgVGVsbGV6DQoNCkNvb3JkaW5hZG9yIGRlbCBNw6FzdGVyIFVuaXZlcnNpdGFyaW8gZW4gSW5nZW5pZXLDrWEgQWdyb27Ds21pY2EgeSBkZWwgZG9jdG9yYWRvIGVuIEFncm9pbmdlbmllcsOtYQ0KDQpFc2N1ZWxhIFTDqWNuaWNhIFN1cGVyaW9yIGRlIEluZ2VuaWVyw61hIEFncm9uw7NtaWNhLCBBbGltZW50YXJpYSB5IGRlIEJpb3Npc3RlbWFzDQoNCkVUU0lBQUIgQ2l1ZGFkIFVuaXZlcnNpdGFyaWEuDQoNCjI4MDQwLCBNYWRyaWQsIE1hZHJpZCBTUEFJTg0KDQrinIkgIDxtYWlsdG86ZnJhbmNpc2NvLmF5dWdhQHVwbS5lcz4gZnJhbmNpc2NvLmF5dWdhQHVwbS5lcw0KDQrinIYgIDx0ZWw6KzM0LTkxMC02Ny0wOS0yMT4gKzM0IDkxMCA2NyAwOSAyMQ0KDQogPGh0dHBzOi8vd3d3LnVwbS5lcy9kaXNjbGFpbWVyPiBBdmlzbyAvIERpc2NsYWltZXIg8J-MsyDwn4yzIFBpZW5zYSBhbnRlcyBkZSBpbXByaW1pci4NCg0KIA0KDQo='}},\n",
       "     {'partId': '0.1',\n",
       "      'mimeType': 'text/html',\n",
       "      'filename': '',\n",
       "      'headers': [{'name': 'Content-Type',\n",
       "        'value': 'text/html; charset=\"UTF-8\"'},\n",
       "       {'name': 'Content-Transfer-Encoding', 'value': 'quoted-printable'}],\n",
       "      'body': {'size': 7756,\n",
       "       'data': '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'}}]},\n",
       "   {'partId': '1',\n",
       "    'mimeType': 'image/png',\n",
       "    'filename': 'image001.png',\n",
       "    'headers': [{'name': 'Content-Type',\n",
       "      'value': 'image/png; name=\"image001.png\"'},\n",
       "     {'name': 'Content-Transfer-Encoding', 'value': 'base64'},\n",
       "     {'name': 'Content-ID', 'value': '<image001.png@01D85BC5.41D48000>'}],\n",
       "    'body': {'attachmentId': 'ANGjdJ-_SpsI0jL8Oq8dNikpWmMCLNUGzZuVXEqoIb5n84G1g21SL0YMe9-YobMufCTYiuvDcTKnuVRg_prFf3PfxWrn4z8dKrfrKnTSuVolcQecQaId778of829gRe2tCz7wB3XSnLVd4y9vwYmujpJYUsa51c7WWHoBW3d0E-zrKsPp-oBGDAinnNPGCdw7Vi4JmkOJtRPf9mUUhvCbk-aQdJxT7ufyJ7WlQH2bypldMuuvXVH0q1sdMGi4v-crMCp-r822NeqG5FwN-BVkkpDHSxWOk3M6CxLO-vaJFxCA0WXwJKnb5vi2FREAX7m9B3a4dBkb3f5Dhr9YlGjh7b6ydveGqE4SQipOTtws3lkjSWaN9Q0-4W0eNN_mKOo-b0IAWef5-lPqQvKqtdH',\n",
       "     'size': 16711}}]},\n",
       " 'sizeEstimate': 37686,\n",
       " 'historyId': '5398366',\n",
       " 'internalDate': '1651239868000'}"
      ]
     },
     "execution_count": 19,
     "metadata": {},
     "output_type": "execute_result"
    }
   ],
   "source": [
    "message = messages[0]\n",
    "msg = service.users().messages().get(userId='me', id=message['id'], format='full').execute()\n",
    "msg"
   ]
  },
  {
   "cell_type": "code",
   "execution_count": 20,
   "metadata": {},
   "outputs": [
    {
     "data": {
      "text/plain": [
       "dict_keys(['partId', 'mimeType', 'filename', 'headers', 'body', 'parts'])"
      ]
     },
     "execution_count": 20,
     "metadata": {},
     "output_type": "execute_result"
    }
   ],
   "source": [
    "msg['payload'].keys()"
   ]
  },
  {
   "cell_type": "code",
   "execution_count": 21,
   "metadata": {},
   "outputs": [
    {
     "data": {
      "text/plain": [
       "['Delivered-To',\n",
       " 'Received',\n",
       " 'X-Google-Smtp-Source',\n",
       " 'X-Received',\n",
       " 'ARC-Seal',\n",
       " 'ARC-Message-Signature',\n",
       " 'ARC-Authentication-Results',\n",
       " 'Return-Path',\n",
       " 'Received',\n",
       " 'Received-SPF',\n",
       " 'Authentication-Results',\n",
       " 'X-BitDefender-Scanner',\n",
       " 'Received',\n",
       " 'DKIM-Signature',\n",
       " 'From',\n",
       " 'To',\n",
       " 'References',\n",
       " 'In-Reply-To',\n",
       " 'Subject',\n",
       " 'Date',\n",
       " 'Message-ID',\n",
       " 'MIME-Version',\n",
       " 'Content-Type',\n",
       " 'X-Mailer',\n",
       " 'thread-index',\n",
       " 'Content-Language']"
      ]
     },
     "execution_count": 21,
     "metadata": {},
     "output_type": "execute_result"
    }
   ],
   "source": [
    "[item['name'] for item in msg['payload']['headers']]"
   ]
  },
  {
   "cell_type": "code",
   "execution_count": 22,
   "metadata": {},
   "outputs": [
    {
     "data": {
      "text/plain": [
       "[{'name': 'To', 'value': 'Anne <annekrus@gmail.com>'},\n",
       " {'name': 'References', 'value': '<007a01d85bb4$7e6e0510$7b4a0f30$@upm.es>'},\n",
       " {'name': 'In-Reply-To', 'value': '<007a01d85bb4$7e6e0510$7b4a0f30$@upm.es>'},\n",
       " {'name': 'Subject', 'value': 'RV: tesis'},\n",
       " {'name': 'Date', 'value': 'Fri, 29 Apr 2022 15:44:28 +0200'},\n",
       " {'name': 'Message-ID', 'value': '<00b601d85bcf$3f706cc0$be514640$@upm.es>'}]"
      ]
     },
     "execution_count": 22,
     "metadata": {},
     "output_type": "execute_result"
    }
   ],
   "source": [
    "msg['payload']['headers'][15:21]"
   ]
  },
  {
   "cell_type": "code",
   "execution_count": 23,
   "metadata": {},
   "outputs": [
    {
     "data": {
      "text/plain": [
       "[14, 15, 18, 19]"
      ]
     },
     "execution_count": 23,
     "metadata": {},
     "output_type": "execute_result"
    }
   ],
   "source": [
    "[i for i in range(len(msg['payload']['headers'])) if msg['payload']['headers'][i]['name'] in (\"id\",\"From\",\"To\",\"Subject\",\"Date\")]"
   ]
  },
  {
   "cell_type": "code",
   "execution_count": 24,
   "metadata": {},
   "outputs": [],
   "source": [
    "def extract_relevant_info(service,message):\n",
    "    msg = service.users().messages().get(userId='me', id=message['id'], format='full').execute()\n",
    "    emails = {}\n",
    "    emails['id'] = msg['id']\n",
    "    for header in [msg['payload']['headers'][i] for i in range(len(msg['payload']['headers'])) if msg['payload']['headers'][i]['name'] in (\"id\",\"From\",\"To\",\"Subject\",\"Date\")]:\n",
    "        emails[header['name']] = header['value']\n",
    "    return emails"
   ]
  },
  {
   "cell_type": "code",
   "execution_count": 25,
   "metadata": {},
   "outputs": [
    {
     "data": {
      "text/plain": [
       "{'id': '1807590dab548da4',\n",
       " 'From': 'Constantino Valero <constantino.valero@upm.es>',\n",
       " 'To': 'Anne <annekrus@gmail.com>',\n",
       " 'Subject': 'RV: tesis',\n",
       " 'Date': 'Fri, 29 Apr 2022 15:44:28 +0200'}"
      ]
     },
     "execution_count": 25,
     "metadata": {},
     "output_type": "execute_result"
    }
   ],
   "source": [
    "emails = extract_relevant_info(service,message)\n",
    "emails"
   ]
  },
  {
   "cell_type": "code",
   "execution_count": 26,
   "metadata": {},
   "outputs": [],
   "source": [
    "import pandas as pd"
   ]
  },
  {
   "cell_type": "code",
   "execution_count": 27,
   "metadata": {},
   "outputs": [
    {
     "data": {
      "text/html": [
       "<div>\n",
       "<style scoped>\n",
       "    .dataframe tbody tr th:only-of-type {\n",
       "        vertical-align: middle;\n",
       "    }\n",
       "\n",
       "    .dataframe tbody tr th {\n",
       "        vertical-align: top;\n",
       "    }\n",
       "\n",
       "    .dataframe thead th {\n",
       "        text-align: right;\n",
       "    }\n",
       "</style>\n",
       "<table border=\"1\" class=\"dataframe\">\n",
       "  <thead>\n",
       "    <tr style=\"text-align: right;\">\n",
       "      <th></th>\n",
       "      <th>id</th>\n",
       "      <th>From</th>\n",
       "      <th>To</th>\n",
       "      <th>Subject</th>\n",
       "      <th>Date</th>\n",
       "    </tr>\n",
       "  </thead>\n",
       "  <tbody>\n",
       "    <tr>\n",
       "      <th>0</th>\n",
       "      <td>1807590dab548da4</td>\n",
       "      <td>Constantino Valero &lt;constantino.valero@upm.es&gt;</td>\n",
       "      <td>Anne &lt;annekrus@gmail.com&gt;</td>\n",
       "      <td>RV: tesis</td>\n",
       "      <td>Fri, 29 Apr 2022 15:44:28 +0200</td>\n",
       "    </tr>\n",
       "  </tbody>\n",
       "</table>\n",
       "</div>"
      ],
      "text/plain": [
       "                 id                                            From  \\\n",
       "0  1807590dab548da4  Constantino Valero <constantino.valero@upm.es>   \n",
       "\n",
       "                          To    Subject                             Date  \n",
       "0  Anne <annekrus@gmail.com>  RV: tesis  Fri, 29 Apr 2022 15:44:28 +0200  "
      ]
     },
     "execution_count": 27,
     "metadata": {},
     "output_type": "execute_result"
    }
   ],
   "source": [
    "df = pd.DataFrame(emails,index=[0])\n",
    "df"
   ]
  },
  {
   "cell_type": "markdown",
   "metadata": {},
   "source": [
    "We have all relevant messages in `messages`, as a list. for each message in messages we want to extract the info and put it in a df."
   ]
  },
  {
   "cell_type": "code",
   "execution_count": 28,
   "metadata": {},
   "outputs": [
    {
     "name": "stdout",
     "output_type": "stream",
     "text": [
      "327 out of 328\r"
     ]
    },
    {
     "data": {
      "text/html": [
       "<div>\n",
       "<style scoped>\n",
       "    .dataframe tbody tr th:only-of-type {\n",
       "        vertical-align: middle;\n",
       "    }\n",
       "\n",
       "    .dataframe tbody tr th {\n",
       "        vertical-align: top;\n",
       "    }\n",
       "\n",
       "    .dataframe thead th {\n",
       "        text-align: right;\n",
       "    }\n",
       "</style>\n",
       "<table border=\"1\" class=\"dataframe\">\n",
       "  <thead>\n",
       "    <tr style=\"text-align: right;\">\n",
       "      <th></th>\n",
       "      <th>id</th>\n",
       "      <th>From</th>\n",
       "      <th>To</th>\n",
       "      <th>Subject</th>\n",
       "      <th>Date</th>\n",
       "    </tr>\n",
       "  </thead>\n",
       "  <tbody>\n",
       "    <tr>\n",
       "      <th>0</th>\n",
       "      <td>1807590dab548da4</td>\n",
       "      <td>Constantino Valero &lt;constantino.valero@upm.es&gt;</td>\n",
       "      <td>Anne &lt;annekrus@gmail.com&gt;</td>\n",
       "      <td>RV: tesis</td>\n",
       "      <td>Fri, 29 Apr 2022 15:44:28 +0200</td>\n",
       "    </tr>\n",
       "    <tr>\n",
       "      <th>1</th>\n",
       "      <td>18008d4977cddb90</td>\n",
       "      <td>Constantino Valero &lt;constantino.valero@upm.es&gt;</td>\n",
       "      <td>\"'Anne Krus'\" &lt;a.m.krus@upm.es&gt;</td>\n",
       "      <td>RE: PROXIMA CAPD_20ABRIL2022</td>\n",
       "      <td>Fri, 8 Apr 2022 12:59:49 +0200</td>\n",
       "    </tr>\n",
       "    <tr>\n",
       "      <th>2</th>\n",
       "      <td>17f884766c552f82</td>\n",
       "      <td>Constantino Valero &lt;constantino.valero@upm.es&gt;</td>\n",
       "      <td>&lt;antonio.barrientos@upm.es&gt;, \"'christyan.cruz....</td>\n",
       "      <td>nuevo (borrador de) artículo para Agronomy</td>\n",
       "      <td>Mon, 14 Mar 2022 12:54:10 +0100</td>\n",
       "    </tr>\n",
       "    <tr>\n",
       "      <th>3</th>\n",
       "      <td>17f7901da7b25984</td>\n",
       "      <td>Constantino Valero &lt;constantino.valero@upm.es&gt;</td>\n",
       "      <td>\"'Hanne Lakkenborg Kristensen'\" &lt;hanne.kristen...</td>\n",
       "      <td>RE: SureVeg Final Report Approved with Minor R...</td>\n",
       "      <td>Fri, 11 Mar 2022 13:43:49 +0100</td>\n",
       "    </tr>\n",
       "    <tr>\n",
       "      <th>4</th>\n",
       "      <td>17ee935f0dab04f2</td>\n",
       "      <td>Constantino Valero &lt;constantino.valero@upm.es&gt;</td>\n",
       "      <td>\"'Rossing, Walter'\" &lt;walter.rossing@wur.nl&gt;, \"...</td>\n",
       "      <td>RE: 11. February for the final SureVeg meeting</td>\n",
       "      <td>Fri, 11 Feb 2022 15:35:24 +0100</td>\n",
       "    </tr>\n",
       "    <tr>\n",
       "      <th>...</th>\n",
       "      <td>...</td>\n",
       "      <td>...</td>\n",
       "      <td>...</td>\n",
       "      <td>...</td>\n",
       "      <td>...</td>\n",
       "    </tr>\n",
       "    <tr>\n",
       "      <th>323</th>\n",
       "      <td>15e5d80c4cb3487d</td>\n",
       "      <td>Constantino Valero &lt;constantino.valero@upm.es&gt;</td>\n",
       "      <td>\"'Anne Krus'\" &lt;annekrus@gmail.com&gt;</td>\n",
       "      <td>RV: Methodology classes</td>\n",
       "      <td>Thu, 7 Sep 2017 11:01:07 -0700</td>\n",
       "    </tr>\n",
       "    <tr>\n",
       "      <th>324</th>\n",
       "      <td>15e5d7ddbbf7f161</td>\n",
       "      <td>Constantino Valero &lt;constantino.valero@upm.es&gt;</td>\n",
       "      <td>\"'Anne Krus'\" &lt;annekrus@gmail.com&gt;</td>\n",
       "      <td>Methodology classes</td>\n",
       "      <td>Thu, 7 Sep 2017 10:57:58 -0700</td>\n",
       "    </tr>\n",
       "    <tr>\n",
       "      <th>325</th>\n",
       "      <td>15da40a4d718de12</td>\n",
       "      <td>Constantino Valero &lt;constantino.valero@upm.es&gt;</td>\n",
       "      <td>\"'Anne Krus'\" &lt;annekrus@gmail.com&gt;</td>\n",
       "      <td>RE: RV: PhD Admission</td>\n",
       "      <td>Wed, 2 Aug 2017 10:42:06 -0700</td>\n",
       "    </tr>\n",
       "    <tr>\n",
       "      <th>326</th>\n",
       "      <td>15d0a434e822101e</td>\n",
       "      <td>Constantino Valero &lt;constantino.valero@upm.es&gt;</td>\n",
       "      <td>\"'Anne Krus'\" &lt;annekrus@gmail.com&gt;</td>\n",
       "      <td>RE: RV: PhD Admission</td>\n",
       "      <td>Mon, 3 Jul 2017 14:02:34 -0700</td>\n",
       "    </tr>\n",
       "    <tr>\n",
       "      <th>327</th>\n",
       "      <td>15cec823018edc8f</td>\n",
       "      <td>Constantino Valero &lt;constantino.valero@upm.es&gt;</td>\n",
       "      <td>\"'Anne Krus'\" &lt;annekrus@gmail.com&gt;</td>\n",
       "      <td>RV: PhD Admission</td>\n",
       "      <td>Tue, 27 Jun 2017 19:22:32 -0700</td>\n",
       "    </tr>\n",
       "  </tbody>\n",
       "</table>\n",
       "<p>209 rows × 5 columns</p>\n",
       "</div>"
      ],
      "text/plain": [
       "                   id                                            From  \\\n",
       "0    1807590dab548da4  Constantino Valero <constantino.valero@upm.es>   \n",
       "1    18008d4977cddb90  Constantino Valero <constantino.valero@upm.es>   \n",
       "2    17f884766c552f82  Constantino Valero <constantino.valero@upm.es>   \n",
       "3    17f7901da7b25984  Constantino Valero <constantino.valero@upm.es>   \n",
       "4    17ee935f0dab04f2  Constantino Valero <constantino.valero@upm.es>   \n",
       "..                ...                                             ...   \n",
       "323  15e5d80c4cb3487d  Constantino Valero <constantino.valero@upm.es>   \n",
       "324  15e5d7ddbbf7f161  Constantino Valero <constantino.valero@upm.es>   \n",
       "325  15da40a4d718de12  Constantino Valero <constantino.valero@upm.es>   \n",
       "326  15d0a434e822101e  Constantino Valero <constantino.valero@upm.es>   \n",
       "327  15cec823018edc8f  Constantino Valero <constantino.valero@upm.es>   \n",
       "\n",
       "                                                    To  \\\n",
       "0                            Anne <annekrus@gmail.com>   \n",
       "1                      \"'Anne Krus'\" <a.m.krus@upm.es>   \n",
       "2    <antonio.barrientos@upm.es>, \"'christyan.cruz....   \n",
       "3    \"'Hanne Lakkenborg Kristensen'\" <hanne.kristen...   \n",
       "4    \"'Rossing, Walter'\" <walter.rossing@wur.nl>, \"...   \n",
       "..                                                 ...   \n",
       "323                 \"'Anne Krus'\" <annekrus@gmail.com>   \n",
       "324                 \"'Anne Krus'\" <annekrus@gmail.com>   \n",
       "325                 \"'Anne Krus'\" <annekrus@gmail.com>   \n",
       "326                 \"'Anne Krus'\" <annekrus@gmail.com>   \n",
       "327                 \"'Anne Krus'\" <annekrus@gmail.com>   \n",
       "\n",
       "                                               Subject  \\\n",
       "0                                            RV: tesis   \n",
       "1                         RE: PROXIMA CAPD_20ABRIL2022   \n",
       "2           nuevo (borrador de) artículo para Agronomy   \n",
       "3    RE: SureVeg Final Report Approved with Minor R...   \n",
       "4       RE: 11. February for the final SureVeg meeting   \n",
       "..                                                 ...   \n",
       "323                            RV: Methodology classes   \n",
       "324                                Methodology classes   \n",
       "325                              RE: RV: PhD Admission   \n",
       "326                              RE: RV: PhD Admission   \n",
       "327                                  RV: PhD Admission   \n",
       "\n",
       "                                Date  \n",
       "0    Fri, 29 Apr 2022 15:44:28 +0200  \n",
       "1     Fri, 8 Apr 2022 12:59:49 +0200  \n",
       "2    Mon, 14 Mar 2022 12:54:10 +0100  \n",
       "3    Fri, 11 Mar 2022 13:43:49 +0100  \n",
       "4    Fri, 11 Feb 2022 15:35:24 +0100  \n",
       "..                               ...  \n",
       "323   Thu, 7 Sep 2017 11:01:07 -0700  \n",
       "324   Thu, 7 Sep 2017 10:57:58 -0700  \n",
       "325   Wed, 2 Aug 2017 10:42:06 -0700  \n",
       "326   Mon, 3 Jul 2017 14:02:34 -0700  \n",
       "327  Tue, 27 Jun 2017 19:22:32 -0700  \n",
       "\n",
       "[209 rows x 5 columns]"
      ]
     },
     "execution_count": 28,
     "metadata": {},
     "output_type": "execute_result"
    }
   ],
   "source": [
    "df = pd.DataFrame()\n",
    "\n",
    "for i,message in enumerate(messages):\n",
    "    maildict = extract_relevant_info(service,message)\n",
    "    if all (k in maildict for k in (\"id\",\"From\",\"To\",\"Subject\",\"Date\")):\n",
    "        if ('Anne' in maildict['To']) & ('Const' in maildict['From']):\n",
    "            df = df.append(pd.DataFrame(extract_relevant_info(service,message),index = [i]))\n",
    "    print(i, 'out of', len(messages), end = '\\r')\n",
    "\n",
    "df"
   ]
  },
  {
   "cell_type": "markdown",
   "metadata": {},
   "source": [
    "We end up with a DataFrame with the message id, from, to, subject and date fields of each message that was sent in a specific query. Remember the value for query was:"
   ]
  },
  {
   "cell_type": "code",
   "execution_count": 29,
   "metadata": {},
   "outputs": [
    {
     "data": {
      "text/plain": [
       "'from:(constantino.valero@upm.es) to:(annekrus@gmail.com)'"
      ]
     },
     "execution_count": 29,
     "metadata": {},
     "output_type": "execute_result"
    }
   ],
   "source": [
    "query"
   ]
  },
  {
   "cell_type": "markdown",
   "metadata": {},
   "source": [
    "## Expand to other queries\n",
    "\n",
    "- We want to find all messages sent by `constantino.valero@upm.es` to either `annekrus@gmail.com`, `a.m.krus@upm.es`, or `a.krus@alumnos.upm.es`, and save them all to a single df.\n",
    "- We want to remove any duplicates (mails sent to 2 or more of these addresses).\n",
    "- We want to do the same for the reverse search action (3 'from' addresses, a single 'to').\n"
   ]
  },
  {
   "cell_type": "code",
   "execution_count": 41,
   "metadata": {},
   "outputs": [],
   "source": [
    "import pandas as pd\n",
    "\n",
    "from google.auth.transport.requests import Request\n",
    "from google.oauth2.credentials import Credentials\n",
    "from googleapiclient.discovery import build\n",
    "from googleapiclient.errors import HttpError\n",
    "\n",
    "# If modifying these scopes, delete the file token.json.\n",
    "SCOPES = ['https://www.googleapis.com/auth/gmail.readonly']"
   ]
  },
  {
   "cell_type": "code",
   "execution_count": 42,
   "metadata": {},
   "outputs": [],
   "source": [
    "df_queries1 = pd.DataFrame([{'from':'constantino.valero@upm.es', 'to':'annekrus@gmail.com'},\n",
    "                            {'from':'constantino.valero@upm.es', 'to':'a.m.krus@upm.es'},\n",
    "                            {'from':'constantino.valero@upm.es', 'to':'a.krus@alumnos.upm.es'}])\n",
    "df_queries2 = pd.DataFrame([{'to':'constantino.valero@upm.es', 'from':'annekrus@gmail.com'},\n",
    "                            {'to':'constantino.valero@upm.es', 'from':'a.m.krus@upm.es'},\n",
    "                            {'to':'constantino.valero@upm.es', 'from':'a.krus@alumnos.upm.es'}])"
   ]
  },
  {
   "cell_type": "code",
   "execution_count": 43,
   "metadata": {},
   "outputs": [],
   "source": [
    "def get_service():\n",
    "    if os.path.exists('token.json'):\n",
    "        creds = Credentials.from_authorized_user_file('token.json', SCOPES)\n",
    "    # If there are no (valid) credentials available, let the user log in.\n",
    "    if not creds or not creds.valid:\n",
    "        if creds and creds.expired and creds.refresh_token:\n",
    "            creds.refresh(Request())\n",
    "        else:\n",
    "            flow = InstalledAppFlow.from_client_secrets_file(\n",
    "                'credentials.json', SCOPES)\n",
    "            creds = flow.run_local_server(port=0)\n",
    "        # Save the credentials for the next run\n",
    "        with open('token.json', 'w') as token:\n",
    "            token.write(creds.to_json())\n",
    "\n",
    "    try:\n",
    "        # Call the Gmail API\n",
    "        service = build('gmail', 'v1', credentials=creds)\n",
    "\n",
    "    except HttpError as error:\n",
    "        # TODO(developer) - Handle errors from gmail API.\n",
    "        print(f'An error occurred: {error}')\n",
    "    \n",
    "    return service"
   ]
  },
  {
   "cell_type": "code",
   "execution_count": 44,
   "metadata": {},
   "outputs": [],
   "source": [
    "def extract_relevant_info(service,message):\n",
    "    msg = service.users().messages().get(userId='me', id=message['id'], format='full').execute()\n",
    "\n",
    "    emails = {}\n",
    "    emails['id'] = msg['id']\n",
    "    for header in [msg['payload']['headers'][i] for i in range(len(msg['payload']['headers'])) if msg['payload']['headers'][i]['name'] in (\"id\",\"From\",\"To\",\"Subject\",\"Date\")]:\n",
    "        emails[header['name']] = header['value']\n",
    "    return emails"
   ]
  },
  {
   "cell_type": "code",
   "execution_count": 60,
   "metadata": {},
   "outputs": [],
   "source": [
    "def convert_relevant_info_to_df(service,messages):\n",
    "    df = pd.DataFrame()\n",
    "    discarded_count_to_from = 0\n",
    "    discarded_count_headers = 0\n",
    "\n",
    "    for i,message in enumerate(messages):\n",
    "        print(i, 'out of', len(messages), end = '\\r')\n",
    "        maildict = extract_relevant_info(service,message)\n",
    "\n",
    "        # print(maildict)\n",
    "\n",
    "        if all (k in maildict for k in (\"id\",\"From\",\"To\",\"Subject\",\"Date\")):\n",
    "            # desired_from = query[ query.find('from:(')+6 : query.find(')') ]\n",
    "            # desired_to = query[ query.find('to:(')+4 : query.find(')',-1) ]\n",
    "            # print('looking for from', desired_from, 'to', desired_to)\n",
    "            # if (desired_to in maildict['To']) & (desired_from in maildict['From']):\n",
    "                df = df.append(pd.DataFrame(extract_relevant_info(service,message),index = [i]))\n",
    "            # else:\n",
    "                # discarded_count_to_from += 1\n",
    "        else:\n",
    "            discarded_count_headers += 1\n",
    "        \n",
    "    print('discarded', discarded_count_headers, 'due to headers, and', discarded_count_to_from, 'due to To and From fields')\n",
    "    print(df.shape[0],'out of',len(messages),'remain')\n",
    "\n",
    "    return df"
   ]
  },
  {
   "cell_type": "code",
   "execution_count": 46,
   "metadata": {},
   "outputs": [],
   "source": [
    "def search_messages(service, query):\n",
    "    # source: https://www.thepythoncode.com/article/use-gmail-api-in-python#Searching_for_Emails\n",
    "    result = service.users().messages().list(userId='me',q=query).execute()\n",
    "    messages = [ ]\n",
    "    if 'messages' in result:\n",
    "        messages.extend(result['messages'])\n",
    "    while 'nextPageToken' in result:\n",
    "        page_token = result['nextPageToken']\n",
    "        result = service.users().messages().list(userId='me',q=query, pageToken=page_token).execute()\n",
    "        if 'messages' in result:\n",
    "            messages.extend(result['messages'])\n",
    "    return messages\n",
    "\n",
    "# messages = search_messages(service, query)"
   ]
  },
  {
   "cell_type": "code",
   "execution_count": 58,
   "metadata": {},
   "outputs": [],
   "source": [
    "def queries_in_df_to_relevant_info_df(service,df_queries1):\n",
    "    # iterate through queries in df\n",
    "    messages = []\n",
    "    for item in range(df_queries1.shape[0]):\n",
    "        query = 'from:({}) to:({})'.format(df_queries1['from'][item],df_queries1['to'][item])\n",
    "        print(query)\n",
    "\n",
    "        # append messages from single query\n",
    "        messages.extend(search_messages(service, query))\n",
    "\n",
    "    # extract relevant info and convert all messages of the queries in queries1 to DF\n",
    "    \n",
    "    return convert_relevant_info_to_df(service,messages)"
   ]
  },
  {
   "cell_type": "code",
   "execution_count": 61,
   "metadata": {},
   "outputs": [
    {
     "name": "stdout",
     "output_type": "stream",
     "text": [
      "from:(constantino.valero@upm.es) to:(annekrus@gmail.com)\n",
      "from:(constantino.valero@upm.es) to:(a.m.krus@upm.es)\n",
      "from:(constantino.valero@upm.es) to:(a.krus@alumnos.upm.es)\n",
      "discarded 0 due to headers, and 0 due to To and From fields\n",
      "762 out of 762 remain\n",
      "from:(annekrus@gmail.com) to:(constantino.valero@upm.es)\n",
      "from:(a.m.krus@upm.es) to:(constantino.valero@upm.es)\n",
      "from:(a.krus@alumnos.upm.es) to:(constantino.valero@upm.es)\n",
      "discarded 3 due to headers, and 0 due to To and From fields\n",
      "387 out of 390 remain\n"
     ]
    }
   ],
   "source": [
    "# establish the connection with GMail\n",
    "service = get_service()\n",
    "\n",
    "# generate dataframes with relevant info for each query-set\n",
    "df1 = queries_in_df_to_relevant_info_df(service,df_queries1)\n",
    "df2 = queries_in_df_to_relevant_info_df(service,df_queries2)"
   ]
  },
  {
   "cell_type": "code",
   "execution_count": 62,
   "metadata": {},
   "outputs": [
    {
     "data": {
      "text/html": [
       "<div>\n",
       "<style scoped>\n",
       "    .dataframe tbody tr th:only-of-type {\n",
       "        vertical-align: middle;\n",
       "    }\n",
       "\n",
       "    .dataframe tbody tr th {\n",
       "        vertical-align: top;\n",
       "    }\n",
       "\n",
       "    .dataframe thead th {\n",
       "        text-align: right;\n",
       "    }\n",
       "</style>\n",
       "<table border=\"1\" class=\"dataframe\">\n",
       "  <thead>\n",
       "    <tr style=\"text-align: right;\">\n",
       "      <th></th>\n",
       "      <th>id</th>\n",
       "      <th>From</th>\n",
       "      <th>To</th>\n",
       "      <th>Subject</th>\n",
       "      <th>Date</th>\n",
       "    </tr>\n",
       "  </thead>\n",
       "  <tbody>\n",
       "    <tr>\n",
       "      <th>0</th>\n",
       "      <td>1807590dab548da4</td>\n",
       "      <td>Constantino Valero &lt;constantino.valero@upm.es&gt;</td>\n",
       "      <td>Anne &lt;annekrus@gmail.com&gt;</td>\n",
       "      <td>RV: tesis</td>\n",
       "      <td>Fri, 29 Apr 2022 15:44:28 +0200</td>\n",
       "    </tr>\n",
       "    <tr>\n",
       "      <th>1</th>\n",
       "      <td>18008d4977cddb90</td>\n",
       "      <td>Constantino Valero &lt;constantino.valero@upm.es&gt;</td>\n",
       "      <td>\"'Anne Krus'\" &lt;a.m.krus@upm.es&gt;</td>\n",
       "      <td>RE: PROXIMA CAPD_20ABRIL2022</td>\n",
       "      <td>Fri, 8 Apr 2022 12:59:49 +0200</td>\n",
       "    </tr>\n",
       "    <tr>\n",
       "      <th>2</th>\n",
       "      <td>17f884766c552f82</td>\n",
       "      <td>Constantino Valero &lt;constantino.valero@upm.es&gt;</td>\n",
       "      <td>&lt;antonio.barrientos@upm.es&gt;, \"'christyan.cruz....</td>\n",
       "      <td>nuevo (borrador de) artículo para Agronomy</td>\n",
       "      <td>Mon, 14 Mar 2022 12:54:10 +0100</td>\n",
       "    </tr>\n",
       "    <tr>\n",
       "      <th>3</th>\n",
       "      <td>17f7901da7b25984</td>\n",
       "      <td>Constantino Valero &lt;constantino.valero@upm.es&gt;</td>\n",
       "      <td>\"'Hanne Lakkenborg Kristensen'\" &lt;hanne.kristen...</td>\n",
       "      <td>RE: SureVeg Final Report Approved with Minor R...</td>\n",
       "      <td>Fri, 11 Mar 2022 13:43:49 +0100</td>\n",
       "    </tr>\n",
       "    <tr>\n",
       "      <th>4</th>\n",
       "      <td>17ee935f0dab04f2</td>\n",
       "      <td>Constantino Valero &lt;constantino.valero@upm.es&gt;</td>\n",
       "      <td>\"'Rossing, Walter'\" &lt;walter.rossing@wur.nl&gt;, \"...</td>\n",
       "      <td>RE: 11. February for the final SureVeg meeting</td>\n",
       "      <td>Fri, 11 Feb 2022 15:35:24 +0100</td>\n",
       "    </tr>\n",
       "  </tbody>\n",
       "</table>\n",
       "</div>"
      ],
      "text/plain": [
       "                 id                                            From  \\\n",
       "0  1807590dab548da4  Constantino Valero <constantino.valero@upm.es>   \n",
       "1  18008d4977cddb90  Constantino Valero <constantino.valero@upm.es>   \n",
       "2  17f884766c552f82  Constantino Valero <constantino.valero@upm.es>   \n",
       "3  17f7901da7b25984  Constantino Valero <constantino.valero@upm.es>   \n",
       "4  17ee935f0dab04f2  Constantino Valero <constantino.valero@upm.es>   \n",
       "\n",
       "                                                  To  \\\n",
       "0                          Anne <annekrus@gmail.com>   \n",
       "1                    \"'Anne Krus'\" <a.m.krus@upm.es>   \n",
       "2  <antonio.barrientos@upm.es>, \"'christyan.cruz....   \n",
       "3  \"'Hanne Lakkenborg Kristensen'\" <hanne.kristen...   \n",
       "4  \"'Rossing, Walter'\" <walter.rossing@wur.nl>, \"...   \n",
       "\n",
       "                                             Subject  \\\n",
       "0                                          RV: tesis   \n",
       "1                       RE: PROXIMA CAPD_20ABRIL2022   \n",
       "2         nuevo (borrador de) artículo para Agronomy   \n",
       "3  RE: SureVeg Final Report Approved with Minor R...   \n",
       "4     RE: 11. February for the final SureVeg meeting   \n",
       "\n",
       "                              Date  \n",
       "0  Fri, 29 Apr 2022 15:44:28 +0200  \n",
       "1   Fri, 8 Apr 2022 12:59:49 +0200  \n",
       "2  Mon, 14 Mar 2022 12:54:10 +0100  \n",
       "3  Fri, 11 Mar 2022 13:43:49 +0100  \n",
       "4  Fri, 11 Feb 2022 15:35:24 +0100  "
      ]
     },
     "execution_count": 62,
     "metadata": {},
     "output_type": "execute_result"
    }
   ],
   "source": [
    "df1.head()"
   ]
  },
  {
   "cell_type": "code",
   "execution_count": 63,
   "metadata": {},
   "outputs": [
    {
     "data": {
      "text/html": [
       "<div>\n",
       "<style scoped>\n",
       "    .dataframe tbody tr th:only-of-type {\n",
       "        vertical-align: middle;\n",
       "    }\n",
       "\n",
       "    .dataframe tbody tr th {\n",
       "        vertical-align: top;\n",
       "    }\n",
       "\n",
       "    .dataframe thead th {\n",
       "        text-align: right;\n",
       "    }\n",
       "</style>\n",
       "<table border=\"1\" class=\"dataframe\">\n",
       "  <thead>\n",
       "    <tr style=\"text-align: right;\">\n",
       "      <th></th>\n",
       "      <th>id</th>\n",
       "      <th>Date</th>\n",
       "      <th>Subject</th>\n",
       "      <th>From</th>\n",
       "      <th>To</th>\n",
       "    </tr>\n",
       "  </thead>\n",
       "  <tbody>\n",
       "    <tr>\n",
       "      <th>0</th>\n",
       "      <td>17e8214795b689e9</td>\n",
       "      <td>Sat, 22 Jan 2022 14:58:05 +0100</td>\n",
       "      <td>Re: 11. February for the final SureVeg meeting</td>\n",
       "      <td>Anne Krus &lt;annekrus@gmail.com&gt;</td>\n",
       "      <td>\"antonio.barrientos@upm.es\" &lt;antonio.barriento...</td>\n",
       "    </tr>\n",
       "    <tr>\n",
       "      <th>1</th>\n",
       "      <td>17de752ba3241b57</td>\n",
       "      <td>Thu, 23 Dec 2021 13:44:41 +0100</td>\n",
       "      <td>Re: Please contribute to the final report of S...</td>\n",
       "      <td>Anne Krus &lt;annekrus@gmail.com&gt;</td>\n",
       "      <td>Constantino Valero &lt;constantino.valero@upm.es&gt;</td>\n",
       "    </tr>\n",
       "    <tr>\n",
       "      <th>2</th>\n",
       "      <td>17de28cc28b96701</td>\n",
       "      <td>Wed, 22 Dec 2021 15:30:13 +0100</td>\n",
       "      <td>Re: Please contribute to the final report of S...</td>\n",
       "      <td>Anne Krus &lt;annekrus@gmail.com&gt;</td>\n",
       "      <td>Constantino Valero &lt;constantino.valero@upm.es&gt;</td>\n",
       "    </tr>\n",
       "    <tr>\n",
       "      <th>3</th>\n",
       "      <td>17cea808d07c72f5</td>\n",
       "      <td>Thu, 4 Nov 2021 11:31:04 +0100</td>\n",
       "      <td>Re: SOLICITUD DE BAJA MATERNIDAD KRUS, ANNE</td>\n",
       "      <td>Anne Krus &lt;annekrus@gmail.com&gt;</td>\n",
       "      <td>Constantino Valero &lt;constantino.valero@upm.es&gt;</td>\n",
       "    </tr>\n",
       "    <tr>\n",
       "      <th>4</th>\n",
       "      <td>17be3aaf1cf8e088</td>\n",
       "      <td>Tue, 14 Sep 2021 11:37:15 +0200</td>\n",
       "      <td>Re: Baja de maternidad de Anne Krus</td>\n",
       "      <td>Anne Krus &lt;annekrus@gmail.com&gt;</td>\n",
       "      <td>Alvaro &lt;alvaro.sanchezdemedina@upm.es&gt;</td>\n",
       "    </tr>\n",
       "  </tbody>\n",
       "</table>\n",
       "</div>"
      ],
      "text/plain": [
       "                 id                             Date  \\\n",
       "0  17e8214795b689e9  Sat, 22 Jan 2022 14:58:05 +0100   \n",
       "1  17de752ba3241b57  Thu, 23 Dec 2021 13:44:41 +0100   \n",
       "2  17de28cc28b96701  Wed, 22 Dec 2021 15:30:13 +0100   \n",
       "3  17cea808d07c72f5   Thu, 4 Nov 2021 11:31:04 +0100   \n",
       "4  17be3aaf1cf8e088  Tue, 14 Sep 2021 11:37:15 +0200   \n",
       "\n",
       "                                             Subject  \\\n",
       "0     Re: 11. February for the final SureVeg meeting   \n",
       "1  Re: Please contribute to the final report of S...   \n",
       "2  Re: Please contribute to the final report of S...   \n",
       "3        Re: SOLICITUD DE BAJA MATERNIDAD KRUS, ANNE   \n",
       "4                Re: Baja de maternidad de Anne Krus   \n",
       "\n",
       "                             From  \\\n",
       "0  Anne Krus <annekrus@gmail.com>   \n",
       "1  Anne Krus <annekrus@gmail.com>   \n",
       "2  Anne Krus <annekrus@gmail.com>   \n",
       "3  Anne Krus <annekrus@gmail.com>   \n",
       "4  Anne Krus <annekrus@gmail.com>   \n",
       "\n",
       "                                                  To  \n",
       "0  \"antonio.barrientos@upm.es\" <antonio.barriento...  \n",
       "1     Constantino Valero <constantino.valero@upm.es>  \n",
       "2     Constantino Valero <constantino.valero@upm.es>  \n",
       "3     Constantino Valero <constantino.valero@upm.es>  \n",
       "4             Alvaro <alvaro.sanchezdemedina@upm.es>  "
      ]
     },
     "execution_count": 63,
     "metadata": {},
     "output_type": "execute_result"
    }
   ],
   "source": [
    "df2.head()"
   ]
  },
  {
   "cell_type": "code",
   "execution_count": 65,
   "metadata": {},
   "outputs": [
    {
     "name": "stdout",
     "output_type": "stream",
     "text": [
      "<class 'pandas.core.frame.DataFrame'>\n",
      "Int64Index: 762 entries, 0 to 761\n",
      "Data columns (total 5 columns):\n",
      " #   Column   Non-Null Count  Dtype \n",
      "---  ------   --------------  ----- \n",
      " 0   id       762 non-null    object\n",
      " 1   From     762 non-null    object\n",
      " 2   To       762 non-null    object\n",
      " 3   Subject  762 non-null    object\n",
      " 4   Date     762 non-null    object\n",
      "dtypes: object(5)\n",
      "memory usage: 35.7+ KB\n"
     ]
    }
   ],
   "source": [
    "df1.info()"
   ]
  },
  {
   "cell_type": "code",
   "execution_count": 79,
   "metadata": {},
   "outputs": [
    {
     "name": "stdout",
     "output_type": "stream",
     "text": [
      "id                      object\n",
      "From                    object\n",
      "To                      object\n",
      "Subject                 object\n",
      "Date                    object\n",
      "Date2      datetime64[ns, UTC]\n",
      "dtype: object\n"
     ]
    },
    {
     "data": {
      "text/html": [
       "<div>\n",
       "<style scoped>\n",
       "    .dataframe tbody tr th:only-of-type {\n",
       "        vertical-align: middle;\n",
       "    }\n",
       "\n",
       "    .dataframe tbody tr th {\n",
       "        vertical-align: top;\n",
       "    }\n",
       "\n",
       "    .dataframe thead th {\n",
       "        text-align: right;\n",
       "    }\n",
       "</style>\n",
       "<table border=\"1\" class=\"dataframe\">\n",
       "  <thead>\n",
       "    <tr style=\"text-align: right;\">\n",
       "      <th></th>\n",
       "      <th>id</th>\n",
       "      <th>From</th>\n",
       "      <th>To</th>\n",
       "      <th>Subject</th>\n",
       "      <th>Date</th>\n",
       "      <th>Date2</th>\n",
       "    </tr>\n",
       "  </thead>\n",
       "  <tbody>\n",
       "    <tr>\n",
       "      <th>0</th>\n",
       "      <td>1807590dab548da4</td>\n",
       "      <td>Constantino Valero &lt;constantino.valero@upm.es&gt;</td>\n",
       "      <td>Anne &lt;annekrus@gmail.com&gt;</td>\n",
       "      <td>RV: tesis</td>\n",
       "      <td>Fri, 29 Apr 2022 15:44:28 +0200</td>\n",
       "      <td>2022-04-29 13:44:28+00:00</td>\n",
       "    </tr>\n",
       "    <tr>\n",
       "      <th>1</th>\n",
       "      <td>18008d4977cddb90</td>\n",
       "      <td>Constantino Valero &lt;constantino.valero@upm.es&gt;</td>\n",
       "      <td>\"'Anne Krus'\" &lt;a.m.krus@upm.es&gt;</td>\n",
       "      <td>RE: PROXIMA CAPD_20ABRIL2022</td>\n",
       "      <td>Fri, 8 Apr 2022 12:59:49 +0200</td>\n",
       "      <td>2022-04-08 10:59:49+00:00</td>\n",
       "    </tr>\n",
       "    <tr>\n",
       "      <th>2</th>\n",
       "      <td>17f884766c552f82</td>\n",
       "      <td>Constantino Valero &lt;constantino.valero@upm.es&gt;</td>\n",
       "      <td>&lt;antonio.barrientos@upm.es&gt;, \"'christyan.cruz....</td>\n",
       "      <td>nuevo (borrador de) artículo para Agronomy</td>\n",
       "      <td>Mon, 14 Mar 2022 12:54:10 +0100</td>\n",
       "      <td>2022-03-14 11:54:10+00:00</td>\n",
       "    </tr>\n",
       "    <tr>\n",
       "      <th>3</th>\n",
       "      <td>17f7901da7b25984</td>\n",
       "      <td>Constantino Valero &lt;constantino.valero@upm.es&gt;</td>\n",
       "      <td>\"'Hanne Lakkenborg Kristensen'\" &lt;hanne.kristen...</td>\n",
       "      <td>RE: SureVeg Final Report Approved with Minor R...</td>\n",
       "      <td>Fri, 11 Mar 2022 13:43:49 +0100</td>\n",
       "      <td>2022-03-11 12:43:49+00:00</td>\n",
       "    </tr>\n",
       "    <tr>\n",
       "      <th>4</th>\n",
       "      <td>17ee935f0dab04f2</td>\n",
       "      <td>Constantino Valero &lt;constantino.valero@upm.es&gt;</td>\n",
       "      <td>\"'Rossing, Walter'\" &lt;walter.rossing@wur.nl&gt;, \"...</td>\n",
       "      <td>RE: 11. February for the final SureVeg meeting</td>\n",
       "      <td>Fri, 11 Feb 2022 15:35:24 +0100</td>\n",
       "      <td>2022-02-11 14:35:24+00:00</td>\n",
       "    </tr>\n",
       "  </tbody>\n",
       "</table>\n",
       "</div>"
      ],
      "text/plain": [
       "                 id                                            From  \\\n",
       "0  1807590dab548da4  Constantino Valero <constantino.valero@upm.es>   \n",
       "1  18008d4977cddb90  Constantino Valero <constantino.valero@upm.es>   \n",
       "2  17f884766c552f82  Constantino Valero <constantino.valero@upm.es>   \n",
       "3  17f7901da7b25984  Constantino Valero <constantino.valero@upm.es>   \n",
       "4  17ee935f0dab04f2  Constantino Valero <constantino.valero@upm.es>   \n",
       "\n",
       "                                                  To  \\\n",
       "0                          Anne <annekrus@gmail.com>   \n",
       "1                    \"'Anne Krus'\" <a.m.krus@upm.es>   \n",
       "2  <antonio.barrientos@upm.es>, \"'christyan.cruz....   \n",
       "3  \"'Hanne Lakkenborg Kristensen'\" <hanne.kristen...   \n",
       "4  \"'Rossing, Walter'\" <walter.rossing@wur.nl>, \"...   \n",
       "\n",
       "                                             Subject  \\\n",
       "0                                          RV: tesis   \n",
       "1                       RE: PROXIMA CAPD_20ABRIL2022   \n",
       "2         nuevo (borrador de) artículo para Agronomy   \n",
       "3  RE: SureVeg Final Report Approved with Minor R...   \n",
       "4     RE: 11. February for the final SureVeg meeting   \n",
       "\n",
       "                              Date                     Date2  \n",
       "0  Fri, 29 Apr 2022 15:44:28 +0200 2022-04-29 13:44:28+00:00  \n",
       "1   Fri, 8 Apr 2022 12:59:49 +0200 2022-04-08 10:59:49+00:00  \n",
       "2  Mon, 14 Mar 2022 12:54:10 +0100 2022-03-14 11:54:10+00:00  \n",
       "3  Fri, 11 Mar 2022 13:43:49 +0100 2022-03-11 12:43:49+00:00  \n",
       "4  Fri, 11 Feb 2022 15:35:24 +0100 2022-02-11 14:35:24+00:00  "
      ]
     },
     "execution_count": 79,
     "metadata": {},
     "output_type": "execute_result"
    }
   ],
   "source": [
    "df1['Date2'] = pd.to_datetime(df1['Date'], format='%a, %d %b %Y %H:%M:%S %z')\n",
    "df1['Date2'] = pd.to_datetime(df1['Date2'],utc=True)\n",
    "print(df1.dtypes)\n",
    "df1.head()"
   ]
  },
  {
   "cell_type": "code",
   "execution_count": 80,
   "metadata": {},
   "outputs": [
    {
     "name": "stdout",
     "output_type": "stream",
     "text": [
      "id                      object\n",
      "Date                    object\n",
      "Subject                 object\n",
      "From                    object\n",
      "To                      object\n",
      "Date2      datetime64[ns, UTC]\n",
      "dtype: object\n"
     ]
    },
    {
     "data": {
      "text/html": [
       "<div>\n",
       "<style scoped>\n",
       "    .dataframe tbody tr th:only-of-type {\n",
       "        vertical-align: middle;\n",
       "    }\n",
       "\n",
       "    .dataframe tbody tr th {\n",
       "        vertical-align: top;\n",
       "    }\n",
       "\n",
       "    .dataframe thead th {\n",
       "        text-align: right;\n",
       "    }\n",
       "</style>\n",
       "<table border=\"1\" class=\"dataframe\">\n",
       "  <thead>\n",
       "    <tr style=\"text-align: right;\">\n",
       "      <th></th>\n",
       "      <th>id</th>\n",
       "      <th>Date</th>\n",
       "      <th>Subject</th>\n",
       "      <th>From</th>\n",
       "      <th>To</th>\n",
       "      <th>Date2</th>\n",
       "    </tr>\n",
       "  </thead>\n",
       "  <tbody>\n",
       "    <tr>\n",
       "      <th>0</th>\n",
       "      <td>17e8214795b689e9</td>\n",
       "      <td>Sat, 22 Jan 2022 14:58:05 +0100</td>\n",
       "      <td>Re: 11. February for the final SureVeg meeting</td>\n",
       "      <td>Anne Krus &lt;annekrus@gmail.com&gt;</td>\n",
       "      <td>\"antonio.barrientos@upm.es\" &lt;antonio.barriento...</td>\n",
       "      <td>2022-01-22 13:58:05+00:00</td>\n",
       "    </tr>\n",
       "    <tr>\n",
       "      <th>1</th>\n",
       "      <td>17de752ba3241b57</td>\n",
       "      <td>Thu, 23 Dec 2021 13:44:41 +0100</td>\n",
       "      <td>Re: Please contribute to the final report of S...</td>\n",
       "      <td>Anne Krus &lt;annekrus@gmail.com&gt;</td>\n",
       "      <td>Constantino Valero &lt;constantino.valero@upm.es&gt;</td>\n",
       "      <td>2021-12-23 12:44:41+00:00</td>\n",
       "    </tr>\n",
       "    <tr>\n",
       "      <th>2</th>\n",
       "      <td>17de28cc28b96701</td>\n",
       "      <td>Wed, 22 Dec 2021 15:30:13 +0100</td>\n",
       "      <td>Re: Please contribute to the final report of S...</td>\n",
       "      <td>Anne Krus &lt;annekrus@gmail.com&gt;</td>\n",
       "      <td>Constantino Valero &lt;constantino.valero@upm.es&gt;</td>\n",
       "      <td>2021-12-22 14:30:13+00:00</td>\n",
       "    </tr>\n",
       "    <tr>\n",
       "      <th>3</th>\n",
       "      <td>17cea808d07c72f5</td>\n",
       "      <td>Thu, 4 Nov 2021 11:31:04 +0100</td>\n",
       "      <td>Re: SOLICITUD DE BAJA MATERNIDAD KRUS, ANNE</td>\n",
       "      <td>Anne Krus &lt;annekrus@gmail.com&gt;</td>\n",
       "      <td>Constantino Valero &lt;constantino.valero@upm.es&gt;</td>\n",
       "      <td>2021-11-04 10:31:04+00:00</td>\n",
       "    </tr>\n",
       "    <tr>\n",
       "      <th>4</th>\n",
       "      <td>17be3aaf1cf8e088</td>\n",
       "      <td>Tue, 14 Sep 2021 11:37:15 +0200</td>\n",
       "      <td>Re: Baja de maternidad de Anne Krus</td>\n",
       "      <td>Anne Krus &lt;annekrus@gmail.com&gt;</td>\n",
       "      <td>Alvaro &lt;alvaro.sanchezdemedina@upm.es&gt;</td>\n",
       "      <td>2021-09-14 09:37:15+00:00</td>\n",
       "    </tr>\n",
       "  </tbody>\n",
       "</table>\n",
       "</div>"
      ],
      "text/plain": [
       "                 id                             Date  \\\n",
       "0  17e8214795b689e9  Sat, 22 Jan 2022 14:58:05 +0100   \n",
       "1  17de752ba3241b57  Thu, 23 Dec 2021 13:44:41 +0100   \n",
       "2  17de28cc28b96701  Wed, 22 Dec 2021 15:30:13 +0100   \n",
       "3  17cea808d07c72f5   Thu, 4 Nov 2021 11:31:04 +0100   \n",
       "4  17be3aaf1cf8e088  Tue, 14 Sep 2021 11:37:15 +0200   \n",
       "\n",
       "                                             Subject  \\\n",
       "0     Re: 11. February for the final SureVeg meeting   \n",
       "1  Re: Please contribute to the final report of S...   \n",
       "2  Re: Please contribute to the final report of S...   \n",
       "3        Re: SOLICITUD DE BAJA MATERNIDAD KRUS, ANNE   \n",
       "4                Re: Baja de maternidad de Anne Krus   \n",
       "\n",
       "                             From  \\\n",
       "0  Anne Krus <annekrus@gmail.com>   \n",
       "1  Anne Krus <annekrus@gmail.com>   \n",
       "2  Anne Krus <annekrus@gmail.com>   \n",
       "3  Anne Krus <annekrus@gmail.com>   \n",
       "4  Anne Krus <annekrus@gmail.com>   \n",
       "\n",
       "                                                  To                     Date2  \n",
       "0  \"antonio.barrientos@upm.es\" <antonio.barriento... 2022-01-22 13:58:05+00:00  \n",
       "1     Constantino Valero <constantino.valero@upm.es> 2021-12-23 12:44:41+00:00  \n",
       "2     Constantino Valero <constantino.valero@upm.es> 2021-12-22 14:30:13+00:00  \n",
       "3     Constantino Valero <constantino.valero@upm.es> 2021-11-04 10:31:04+00:00  \n",
       "4             Alvaro <alvaro.sanchezdemedina@upm.es> 2021-09-14 09:37:15+00:00  "
      ]
     },
     "execution_count": 80,
     "metadata": {},
     "output_type": "execute_result"
    }
   ],
   "source": [
    "df2['Date2'] = pd.to_datetime(df2['Date'], format='%a, %d %b %Y %H:%M:%S %z')\n",
    "df2['Date2'] = pd.to_datetime(df2['Date2'],utc=True)\n",
    "print(df2.dtypes)\n",
    "df2.head()"
   ]
  },
  {
   "cell_type": "markdown",
   "metadata": {},
   "source": [
    "## Save results\n",
    "Cannot write to excel because of timezone-aware date column. Conversion to UTC would be necessary."
   ]
  },
  {
   "cell_type": "code",
   "execution_count": 84,
   "metadata": {},
   "outputs": [],
   "source": [
    "df1.to_csv('fromCtoA.csv')\n",
    "df2.to_csv('fromAtoC.csv')"
   ]
  },
  {
   "cell_type": "code",
   "execution_count": null,
   "metadata": {},
   "outputs": [],
   "source": []
  }
 ],
 "metadata": {
  "interpreter": {
   "hash": "b3ba2566441a7c06988d0923437866b63cedc61552a5af99d1f4fb67d367b25f"
  },
  "kernelspec": {
   "display_name": "Python 3.7.6 ('base')",
   "language": "python",
   "name": "python3"
  },
  "language_info": {
   "codemirror_mode": {
    "name": "ipython",
    "version": 3
   },
   "file_extension": ".py",
   "mimetype": "text/x-python",
   "name": "python",
   "nbconvert_exporter": "python",
   "pygments_lexer": "ipython3",
   "version": "3.7.6"
  },
  "orig_nbformat": 4
 },
 "nbformat": 4,
 "nbformat_minor": 2
}
